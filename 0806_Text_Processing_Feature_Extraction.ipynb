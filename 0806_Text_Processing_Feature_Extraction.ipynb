{
  "cells": [
    {
      "cell_type": "markdown",
      "metadata": {
        "id": "view-in-github",
        "colab_type": "text"
      },
      "source": [
        "<a href=\"https://colab.research.google.com/github/suryakanthPS/DS-Workbooks/blob/main/0806_Text_Processing_Feature_Extraction.ipynb\" target=\"_parent\"><img src=\"https://colab.research.google.com/assets/colab-badge.svg\" alt=\"Open In Colab\"/></a>"
      ]
    },
    {
      "cell_type": "code",
      "execution_count": null,
      "metadata": {
        "id": "hidnoC8JoRzY"
      },
      "outputs": [],
      "source": [
        "import numpy as np # linear algebra\n",
        "import pandas as pd # data processing, CSV file I/O (e.g. pd.read_csv)\n",
        "import string # special operations on strings\n",
        "import spacy # language models\n",
        "\n",
        "from matplotlib.pyplot import imread\n",
        "from matplotlib import pyplot as plt\n",
        "from wordcloud import WordCloud\n",
        "%matplotlib inline"
      ]
    },
    {
      "cell_type": "code",
      "execution_count": null,
      "metadata": {
        "id": "NbC98UaeoRzp"
      },
      "outputs": [],
      "source": [
        "#en_core_web_md - english core webbased marked down language\n",
        "#!python -m spacy download en_core_web_md"
      ]
    },
    {
      "cell_type": "code",
      "execution_count": null,
      "metadata": {
        "colab": {
          "base_uri": "https://localhost:8080/"
        },
        "id": "F0Un64BnoRzv",
        "outputId": "71ec5f80-9205-4420-b793-42feac0c0793"
      },
      "outputs": [
        {
          "output_type": "stream",
          "name": "stderr",
          "text": [
            "/usr/local/lib/python3.7/dist-packages/IPython/core/interactiveshell.py:3326: FutureWarning: The error_bad_lines argument has been deprecated and will be removed in a future version.\n",
            "\n",
            "\n",
            "  exec(code_obj, self.user_global_ns, self.user_ns)\n",
            "b'Skipping line 6: expected 1 fields, saw 14\\n'\n"
          ]
        }
      ],
      "source": [
        "import pandas\n",
        "book=pd.read_csv(\"/content/apple.txt\",error_bad_lines=False)\n",
        "#if there are empty lines, lines with only punctuation will be treated a as bad lines"
      ]
    },
    {
      "cell_type": "code",
      "execution_count": null,
      "metadata": {
        "colab": {
          "base_uri": "https://localhost:8080/",
          "height": 1000
        },
        "id": "rBad3RYkoRzw",
        "outputId": "62c77e0f-7454-4bea-ab05-8b670f17457d"
      },
      "outputs": [
        {
          "output_type": "execute_result",
          "data": {
            "text/plain": [
              "                                                    x\n",
              "0   It's amazing..... battery last around 10 -12 h...\n",
              "1   Finally a MacBook possession. Got it in 50k in...\n",
              "2   Best Laptop under 60k. If you don't want any a...\n",
              "3   Pros:1. Light weight and super fast response t...\n",
              "4                                                   \"\n",
              "5   I am very upset about the product as I checked...\n",
              "6   Reason for 1 star is I ot an defective piece. ...\n",
              "7   Got the Apple Macbook air on amazon discount s...\n",
              "8   White line coming on screen in just three mont...\n",
              "9   Bought this product recently on 5 April, was w...\n",
              "10  Hi, Think thousand time before buying. One cal...\n",
              "11  We buy macbook's expecting that it will lasts ...\n",
              "12  I use this for music production and it works a...\n",
              "13  Never purchase any Apple products. I bought 3 ...\n",
              "14  Good purchase of mineBest for programming...On...\n",
              "15  I bought MacBook air in 2017, it was working f...\n",
              "16  Bought it on 9th July, stopped working / not t...\n",
              "17  I bought it last year from Amazon during Sale....\n",
              "18              All are Gud.. For now..\\n            \n",
              "19  Apple,apple,apple, thats the first thing that ...\n",
              "20  After using Windows Operating system for the p...\n",
              "21  MacBook Air is excellent. The build is super s...\n",
              "22  Very handy laptop, light weight and portable. ...\n",
              "23  I was apprehensive of buying Apple product fro...\n",
              "24  I brought this mac air on sep 2017. From past ...\n",
              "25  Don't want to mention anything for apple MAC b...\n",
              "26  I have my worst nightmare with the macbook air...\n",
              "27  Everything about this product seems to be fine...\n",
              "28  I was looking for an affordable long lasting l...\n",
              "29  This is the worst  apple product I have ever s...\n",
              "30  Amazing product..it has quality written all ov...\n",
              "31  From the very beginning the battery life was h...\n",
              "32  The rating isn't for Apple's performance. I ex...\n",
              "33  I preferred this over other good spec windows ...\n",
              "34  When i received, within 15 days i realised the...\n",
              "35  Be careful while buying electronic products th...\n",
              "36  MERITS..IT IS BEST IN ITS PERFORMANCE..SOUND Q...\n",
              "37  3 years and still running! great product\\n    ...\n",
              "38  The elegant work of apple can be seen in this ...\n",
              "39  I got a great deal on this laptop, which I hav..."
            ],
            "text/html": [
              "\n",
              "  <div id=\"df-80a49355-4eb7-4930-9373-22672c2dd481\">\n",
              "    <div class=\"colab-df-container\">\n",
              "      <div>\n",
              "<style scoped>\n",
              "    .dataframe tbody tr th:only-of-type {\n",
              "        vertical-align: middle;\n",
              "    }\n",
              "\n",
              "    .dataframe tbody tr th {\n",
              "        vertical-align: top;\n",
              "    }\n",
              "\n",
              "    .dataframe thead th {\n",
              "        text-align: right;\n",
              "    }\n",
              "</style>\n",
              "<table border=\"1\" class=\"dataframe\">\n",
              "  <thead>\n",
              "    <tr style=\"text-align: right;\">\n",
              "      <th></th>\n",
              "      <th>x</th>\n",
              "    </tr>\n",
              "  </thead>\n",
              "  <tbody>\n",
              "    <tr>\n",
              "      <th>0</th>\n",
              "      <td>It's amazing..... battery last around 10 -12 h...</td>\n",
              "    </tr>\n",
              "    <tr>\n",
              "      <th>1</th>\n",
              "      <td>Finally a MacBook possession. Got it in 50k in...</td>\n",
              "    </tr>\n",
              "    <tr>\n",
              "      <th>2</th>\n",
              "      <td>Best Laptop under 60k. If you don't want any a...</td>\n",
              "    </tr>\n",
              "    <tr>\n",
              "      <th>3</th>\n",
              "      <td>Pros:1. Light weight and super fast response t...</td>\n",
              "    </tr>\n",
              "    <tr>\n",
              "      <th>4</th>\n",
              "      <td>\"</td>\n",
              "    </tr>\n",
              "    <tr>\n",
              "      <th>5</th>\n",
              "      <td>I am very upset about the product as I checked...</td>\n",
              "    </tr>\n",
              "    <tr>\n",
              "      <th>6</th>\n",
              "      <td>Reason for 1 star is I ot an defective piece. ...</td>\n",
              "    </tr>\n",
              "    <tr>\n",
              "      <th>7</th>\n",
              "      <td>Got the Apple Macbook air on amazon discount s...</td>\n",
              "    </tr>\n",
              "    <tr>\n",
              "      <th>8</th>\n",
              "      <td>White line coming on screen in just three mont...</td>\n",
              "    </tr>\n",
              "    <tr>\n",
              "      <th>9</th>\n",
              "      <td>Bought this product recently on 5 April, was w...</td>\n",
              "    </tr>\n",
              "    <tr>\n",
              "      <th>10</th>\n",
              "      <td>Hi, Think thousand time before buying. One cal...</td>\n",
              "    </tr>\n",
              "    <tr>\n",
              "      <th>11</th>\n",
              "      <td>We buy macbook's expecting that it will lasts ...</td>\n",
              "    </tr>\n",
              "    <tr>\n",
              "      <th>12</th>\n",
              "      <td>I use this for music production and it works a...</td>\n",
              "    </tr>\n",
              "    <tr>\n",
              "      <th>13</th>\n",
              "      <td>Never purchase any Apple products. I bought 3 ...</td>\n",
              "    </tr>\n",
              "    <tr>\n",
              "      <th>14</th>\n",
              "      <td>Good purchase of mineBest for programming...On...</td>\n",
              "    </tr>\n",
              "    <tr>\n",
              "      <th>15</th>\n",
              "      <td>I bought MacBook air in 2017, it was working f...</td>\n",
              "    </tr>\n",
              "    <tr>\n",
              "      <th>16</th>\n",
              "      <td>Bought it on 9th July, stopped working / not t...</td>\n",
              "    </tr>\n",
              "    <tr>\n",
              "      <th>17</th>\n",
              "      <td>I bought it last year from Amazon during Sale....</td>\n",
              "    </tr>\n",
              "    <tr>\n",
              "      <th>18</th>\n",
              "      <td>All are Gud.. For now..\\n</td>\n",
              "    </tr>\n",
              "    <tr>\n",
              "      <th>19</th>\n",
              "      <td>Apple,apple,apple, thats the first thing that ...</td>\n",
              "    </tr>\n",
              "    <tr>\n",
              "      <th>20</th>\n",
              "      <td>After using Windows Operating system for the p...</td>\n",
              "    </tr>\n",
              "    <tr>\n",
              "      <th>21</th>\n",
              "      <td>MacBook Air is excellent. The build is super s...</td>\n",
              "    </tr>\n",
              "    <tr>\n",
              "      <th>22</th>\n",
              "      <td>Very handy laptop, light weight and portable. ...</td>\n",
              "    </tr>\n",
              "    <tr>\n",
              "      <th>23</th>\n",
              "      <td>I was apprehensive of buying Apple product fro...</td>\n",
              "    </tr>\n",
              "    <tr>\n",
              "      <th>24</th>\n",
              "      <td>I brought this mac air on sep 2017. From past ...</td>\n",
              "    </tr>\n",
              "    <tr>\n",
              "      <th>25</th>\n",
              "      <td>Don't want to mention anything for apple MAC b...</td>\n",
              "    </tr>\n",
              "    <tr>\n",
              "      <th>26</th>\n",
              "      <td>I have my worst nightmare with the macbook air...</td>\n",
              "    </tr>\n",
              "    <tr>\n",
              "      <th>27</th>\n",
              "      <td>Everything about this product seems to be fine...</td>\n",
              "    </tr>\n",
              "    <tr>\n",
              "      <th>28</th>\n",
              "      <td>I was looking for an affordable long lasting l...</td>\n",
              "    </tr>\n",
              "    <tr>\n",
              "      <th>29</th>\n",
              "      <td>This is the worst  apple product I have ever s...</td>\n",
              "    </tr>\n",
              "    <tr>\n",
              "      <th>30</th>\n",
              "      <td>Amazing product..it has quality written all ov...</td>\n",
              "    </tr>\n",
              "    <tr>\n",
              "      <th>31</th>\n",
              "      <td>From the very beginning the battery life was h...</td>\n",
              "    </tr>\n",
              "    <tr>\n",
              "      <th>32</th>\n",
              "      <td>The rating isn't for Apple's performance. I ex...</td>\n",
              "    </tr>\n",
              "    <tr>\n",
              "      <th>33</th>\n",
              "      <td>I preferred this over other good spec windows ...</td>\n",
              "    </tr>\n",
              "    <tr>\n",
              "      <th>34</th>\n",
              "      <td>When i received, within 15 days i realised the...</td>\n",
              "    </tr>\n",
              "    <tr>\n",
              "      <th>35</th>\n",
              "      <td>Be careful while buying electronic products th...</td>\n",
              "    </tr>\n",
              "    <tr>\n",
              "      <th>36</th>\n",
              "      <td>MERITS..IT IS BEST IN ITS PERFORMANCE..SOUND Q...</td>\n",
              "    </tr>\n",
              "    <tr>\n",
              "      <th>37</th>\n",
              "      <td>3 years and still running! great product\\n    ...</td>\n",
              "    </tr>\n",
              "    <tr>\n",
              "      <th>38</th>\n",
              "      <td>The elegant work of apple can be seen in this ...</td>\n",
              "    </tr>\n",
              "    <tr>\n",
              "      <th>39</th>\n",
              "      <td>I got a great deal on this laptop, which I hav...</td>\n",
              "    </tr>\n",
              "  </tbody>\n",
              "</table>\n",
              "</div>\n",
              "      <button class=\"colab-df-convert\" onclick=\"convertToInteractive('df-80a49355-4eb7-4930-9373-22672c2dd481')\"\n",
              "              title=\"Convert this dataframe to an interactive table.\"\n",
              "              style=\"display:none;\">\n",
              "        \n",
              "  <svg xmlns=\"http://www.w3.org/2000/svg\" height=\"24px\"viewBox=\"0 0 24 24\"\n",
              "       width=\"24px\">\n",
              "    <path d=\"M0 0h24v24H0V0z\" fill=\"none\"/>\n",
              "    <path d=\"M18.56 5.44l.94 2.06.94-2.06 2.06-.94-2.06-.94-.94-2.06-.94 2.06-2.06.94zm-11 1L8.5 8.5l.94-2.06 2.06-.94-2.06-.94L8.5 2.5l-.94 2.06-2.06.94zm10 10l.94 2.06.94-2.06 2.06-.94-2.06-.94-.94-2.06-.94 2.06-2.06.94z\"/><path d=\"M17.41 7.96l-1.37-1.37c-.4-.4-.92-.59-1.43-.59-.52 0-1.04.2-1.43.59L10.3 9.45l-7.72 7.72c-.78.78-.78 2.05 0 2.83L4 21.41c.39.39.9.59 1.41.59.51 0 1.02-.2 1.41-.59l7.78-7.78 2.81-2.81c.8-.78.8-2.07 0-2.86zM5.41 20L4 18.59l7.72-7.72 1.47 1.35L5.41 20z\"/>\n",
              "  </svg>\n",
              "      </button>\n",
              "      \n",
              "  <style>\n",
              "    .colab-df-container {\n",
              "      display:flex;\n",
              "      flex-wrap:wrap;\n",
              "      gap: 12px;\n",
              "    }\n",
              "\n",
              "    .colab-df-convert {\n",
              "      background-color: #E8F0FE;\n",
              "      border: none;\n",
              "      border-radius: 50%;\n",
              "      cursor: pointer;\n",
              "      display: none;\n",
              "      fill: #1967D2;\n",
              "      height: 32px;\n",
              "      padding: 0 0 0 0;\n",
              "      width: 32px;\n",
              "    }\n",
              "\n",
              "    .colab-df-convert:hover {\n",
              "      background-color: #E2EBFA;\n",
              "      box-shadow: 0px 1px 2px rgba(60, 64, 67, 0.3), 0px 1px 3px 1px rgba(60, 64, 67, 0.15);\n",
              "      fill: #174EA6;\n",
              "    }\n",
              "\n",
              "    [theme=dark] .colab-df-convert {\n",
              "      background-color: #3B4455;\n",
              "      fill: #D2E3FC;\n",
              "    }\n",
              "\n",
              "    [theme=dark] .colab-df-convert:hover {\n",
              "      background-color: #434B5C;\n",
              "      box-shadow: 0px 1px 3px 1px rgba(0, 0, 0, 0.15);\n",
              "      filter: drop-shadow(0px 1px 2px rgba(0, 0, 0, 0.3));\n",
              "      fill: #FFFFFF;\n",
              "    }\n",
              "  </style>\n",
              "\n",
              "      <script>\n",
              "        const buttonEl =\n",
              "          document.querySelector('#df-80a49355-4eb7-4930-9373-22672c2dd481 button.colab-df-convert');\n",
              "        buttonEl.style.display =\n",
              "          google.colab.kernel.accessAllowed ? 'block' : 'none';\n",
              "\n",
              "        async function convertToInteractive(key) {\n",
              "          const element = document.querySelector('#df-80a49355-4eb7-4930-9373-22672c2dd481');\n",
              "          const dataTable =\n",
              "            await google.colab.kernel.invokeFunction('convertToInteractive',\n",
              "                                                     [key], {});\n",
              "          if (!dataTable) return;\n",
              "\n",
              "          const docLinkHtml = 'Like what you see? Visit the ' +\n",
              "            '<a target=\"_blank\" href=https://colab.research.google.com/notebooks/data_table.ipynb>data table notebook</a>'\n",
              "            + ' to learn more about interactive tables.';\n",
              "          element.innerHTML = '';\n",
              "          dataTable['output_type'] = 'display_data';\n",
              "          await google.colab.output.renderOutput(dataTable, element);\n",
              "          const docLink = document.createElement('div');\n",
              "          docLink.innerHTML = docLinkHtml;\n",
              "          element.appendChild(docLink);\n",
              "        }\n",
              "      </script>\n",
              "    </div>\n",
              "  </div>\n",
              "  "
            ]
          },
          "metadata": {},
          "execution_count": 4
        }
      ],
      "source": [
        "book"
      ]
    },
    {
      "cell_type": "code",
      "execution_count": null,
      "metadata": {
        "id": "4D8FY4beoRzx",
        "colab": {
          "base_uri": "https://localhost:8080/"
        },
        "outputId": "8fbaa4bd-c401-4314-e8a8-5e8f415a757c"
      },
      "outputs": [
        {
          "output_type": "execute_result",
          "data": {
            "text/plain": [
              "[\"It's amazing..... battery last around 10 -12 hrs.....best laptop for students and coders\",\n",
              " \"Finally a MacBook possession. Got it in 50k in Diwali sale. Technically good laptop.Good News.luxury product, niche technology, good battery life, reliable machine (other laptops crash and become defunct in 6-10 years), no anti-virus required, security of data and transactions much better. Terrific sense of possession & pride.Bad News. Problems will be there if you are switching from windows based system - very less space in hard disk, no CD drive, inability to transfer data from Mac to your existing external hard disc unless you format it, apps are mostly paid and re unreasonably expensive (no free apps which are available otherwise on google play store, even the angry bird costs Rs 400 !!), all printers are not compatible (e.g. the most economical MFD laser printer RICOH SP 111 can't be used), huge compatibility issues with Pages (MS Word) and Keynote (powerpoint) unless you master it by working on these (still mostly the document and slides either do not open in windows environment or have distortion issues). you need to spend extra for an external CD writer and tp buy a carry bag. Mac con not be connected to most of the projectors unless you buy some connectors, which are expensive and theres no clarity which one to buy and from where. you can't connect it to your TV, the ports are different and again theres no clarity - customer support, manuals or help section are silent ! Marketing strategy for Indian market, if at all has been planned, has been very bad. If these critical issues (and a few more not mentioned here) are handled properly, the Mac can sweep away other laptops in India. Presently, it doesn't seem to be happening.Overall Verdict.If compatibility issues mentioned above do not bother you, go for it. Else, think hard.  If its an emotional issue to own a long cherished Mac, then its a different thing. Go ahead and gradually you would figure out most (but not all) of the above problems, like I did.\",\n",
              " \"Best Laptop under 60k. If you don't want any accounting softwares like tally or busy then go for it, better than windows in every term. I just love it's battery life with sleek look 😍Now talking about MS officeIt's available on app store, free for 1 monthAfter that you will have to pay.You cannot install pirated version but if you install Windows 7 or any other version then u can use Ms office for freeBut in MacBook there are other apps which are good substitute for Ms office appsNumbers for ExcelPages for wordKeynote for PowerPointAnd you can convert your numbers file to Excel file or csv fileSame for the pages & keynoteSo no need of Ms office for me.Cons1. U cannot play games, your laptop will just heat up, battery will drain* U cannot play pubg mobile on emulator if you are pubg lover😁2. Storage 128gb, it will work fine but if you want to store movies or TV shows u can't, u have to buy external hard disk\",\n",
              " 'Pros:1. Light weight and super fast response time2. Highly optimize which avoids any kind of process lag.3. Beautiful looks and feels like a prime product.4. Long battery life and awesome sound clarity5. Purchased during Amazon sale cost around 52k.Cons:1. Not enough memory2. Limited softwares available3. Operating system is not that user-friendlyProbably one of the best option for 50k+ laptops',\n",
              " '\"',\n",
              " 'I am very upset about the product as I checked my MacBook 15 days back in December, it didn’t start. It was luckily in warranty . I took it to the service centre and they informed me the mother board and battery collapsed. If it was not in warranty I had to pay 47000/. I asked for replacement of the product and I was refused. They got it fixed for me. I don’t know why should I pay 57000/ for Mac quality. If this is the quality and the service, then I have to go to other product. In January my product expiry was due. They have give an extension of 3 months warranty when I had asked for 1 year. Very disappointed.',\n",
              " 'Reason for 1 star is I ot an defective piece. The sound quality was not good . My laptop started giving issues with power button from  4 months. The screen would flicker and it would shutdown automatically after sometime. Took the mac to service centre. They replaced the motherboard free of cost as it was in warranty. Now my mac is perfectly fine :',\n",
              " 'Got the Apple Macbook air on amazon discount sale.1) The OS is smooth and is a breeze to work with. Ships with macOS sierra but update is available to macOS mojave2) The design and build quality, as you can expect from an apple product is top notch.3) Excellen sound quality, keyboard.Cons:1) 128GB may be low incase you want to have movies and media in your laptop.You need to carry around a hard disk that kind of nullifies the advantage of having a light weight laptop.2) Display resolution is not exactly upto the mark',\n",
              " 'White line coming on screen in just three months of purchase from amazon. Doubting the quality of the products sold on amazon',\n",
              " 'Bought this product recently on 5 April, was working perfectly fine for few days and on 16 April the Mac working charge or turn on. Apple service centre says they can’t fix the product under warranty and amazon in try to come up with a solution ever since , no solid answer . I m stuck with a dead mac after using it for 10days. Request seller , Amazon or apple to take full responsibility.']"
            ]
          },
          "metadata": {},
          "execution_count": 5
        }
      ],
      "source": [
        "book = [x.strip() for x in book.x] # remove both the leading and the trailing characters\n",
        "book = [x for x in book if x] # removes empty strings, because they are considered in Python as False\n",
        "book[0:10]"
      ]
    },
    {
      "cell_type": "code",
      "execution_count": null,
      "metadata": {
        "id": "Ncencd_koRzx",
        "colab": {
          "base_uri": "https://localhost:8080/",
          "height": 105
        },
        "outputId": "c9b6a645-4369-4eaa-80b1-7b9acc5edc72"
      },
      "outputs": [
        {
          "output_type": "execute_result",
          "data": {
            "text/plain": [
              "'It\\'s amazing..... battery last around 10 -12 hrs.....best laptop for students and coders Finally a MacBook possession. Got it in 50k in Diwali sale. Technically good laptop.Good News.luxury product, niche technology, good battery life, reliable machine (other laptops crash and become defunct in 6-10 years), no anti-virus required, security of data and transactions much better. Terrific sense of possession & pride.Bad News. Problems will be there if you are switching from windows based system - very less space in hard disk, no CD drive, inability to transfer data from Mac to your existing external hard disc unless you format it, apps are mostly paid and re unreasonably expensive (no free apps which are available otherwise on google play store, even the angry bird costs Rs 400 !!), all printers are not compatible (e.g. the most economical MFD laser printer RICOH SP 111 can\\'t be used), huge compatibility issues with Pages (MS Word) and Keynote (powerpoint) unless you master it by working on these (still mostly the document and slides either do not open in windows environment or have distortion issues). you need to spend extra for an external CD writer and tp buy a carry bag. Mac con not be connected to most of the projectors unless you buy some connectors, which are expensive and theres no clarity which one to buy and from where. you can\\'t connect it to your TV, the ports are different and again theres no clarity - customer support, manuals or help section are silent ! Marketing strategy for Indian market, if at all has been planned, has been very bad. If these critical issues (and a few more not mentioned here) are handled properly, the Mac can sweep away other laptops in India. Presently, it doesn\\'t seem to be happening.Overall Verdict.If compatibility issues mentioned above do not bother you, go for it. Else, think hard.  If its an emotional issue to own a long cherished Mac, then its a different thing. Go ahead and gradually you would figure out most (but not all) of the above problems, like I did. Best Laptop under 60k. If you don\\'t want any accounting softwares like tally or busy then go for it, better than windows in every term. I just love it\\'s battery life with sleek look 😍Now talking about MS officeIt\\'s available on app store, free for 1 monthAfter that you will have to pay.You cannot install pirated version but if you install Windows 7 or any other version then u can use Ms office for freeBut in MacBook there are other apps which are good substitute for Ms office appsNumbers for ExcelPages for wordKeynote for PowerPointAnd you can convert your numbers file to Excel file or csv fileSame for the pages & keynoteSo no need of Ms office for me.Cons1. U cannot play games, your laptop will just heat up, battery will drain* U cannot play pubg mobile on emulator if you are pubg lover😁2. Storage 128gb, it will work fine but if you want to store movies or TV shows u can\\'t, u have to buy external hard disk Pros:1. Light weight and super fast response time2. Highly optimize which avoids any kind of process lag.3. Beautiful looks and feels like a prime product.4. Long battery life and awesome sound clarity5. Purchased during Amazon sale cost around 52k.Cons:1. Not enough memory2. Limited softwares available3. Operating system is not that user-friendlyProbably one of the best option for 50k+ laptops \" I am very upset about the product as I checked my MacBook 15 days back in December, it didn’t start. It was luckily in warranty . I took it to the service centre and they informed me the mother board and battery collapsed. If it was not in warranty I had to pay 47000/. I asked for replacement of the product and I was refused. They got it fixed for me. I don’t know why should I pay 57000/ for Mac quality. If this is the quality and the service, then I have to go to other product. In January my product expiry was due. They have give an extension of 3 months warranty when I had asked for 1 year. Very disappointed. Reason for 1 star is I ot an defective piece. The sound quality was not good . My laptop started giving issues with power button from  4 months. The screen would flicker and it would shutdown automatically after sometime. Took the mac to service centre. They replaced the motherboard free of cost as it was in warranty. Now my mac is perfectly fine : Got the Apple Macbook air on amazon discount sale.1) The OS is smooth and is a breeze to work with. Ships with macOS sierra but update is available to macOS mojave2) The design and build quality, as you can expect from an apple product is top notch.3) Excellen sound quality, keyboard.Cons:1) 128GB may be low incase you want to have movies and media in your laptop.You need to carry around a hard disk that kind of nullifies the advantage of having a light weight laptop.2) Display resolution is not exactly upto the mark White line coming on screen in just three months of purchase from amazon. Doubting the quality of the products sold on amazon Bought this product recently on 5 April, was working perfectly fine for few days and on 16 April the Mac working charge or turn on. Apple service centre says they can’t fix the product under warranty and amazon in try to come up with a solution ever since , no solid answer . I m stuck with a dead mac after using it for 10days. Request seller , Amazon or apple to take full responsibility. Hi, Think thousand time before buying. One calm night i was cuddling in jaipuri blanket while enjoying youtube on this expensive machine. Cold night and little excitement created electrostatic charge which spike though spaceBar button. that\\'s how it went to deep sleep forever. Nothing can bring it back and i am in no mood in spending another fortune on this machine. Apple, of you (i)care, this is the least of security feature included in all electronic devices. And the best part, it was a week after Warranty expiration date. We buy macbook\\'s expecting that it will lasts at least 3 years, not in my case they are saying it will costs 46000rs to repair.. i bought this in 58000rs.. if i don\\'t want to repair it still I\\'ve to pay 2500rs as diagnostic cost.. not recommended.. I use this for music production and it works awesome..however the display is not so good as it should have been in a 63k laptop Never purchase any Apple products. I bought 3 and start giving problems just after 6 months. I need to visit 4 times service station which is far 12 km. Again MacBook start acting dead after 6 more months. Mean a top priced laptop giving problems in every 6 months.I have good experiences with other brands of laptops. I hope this comment can help to save somebody’s money. Good purchase of mineBest for programming...Only some heating issues...but can be ignored!! I bought MacBook air in 2017, it was working fine till last month. It suddenly stopped charging I took it apple care and was shocked to hear the feedback. They told me that the motherboard is dead and i have to buy a new motherboard. The cost was 50k ( i bought at 53k in 2017). We buy Apple products because they are meant to be long-lasting. I am really disappointed and would prefer other companies next time. They earn extra money from selling an extended warranty. Bought it on 9th July, stopped working / not turning power on by 4th Nov. Adding to this disappointment is - Apple\\'s refusal to repair it under warranty stating that there is corrosion in Logic Board. Amazon also did not help. The seller - Appario - does not like to be bothered with it. Sometimes I wonder if buying electronics online is a good idea! I bought it last year from Amazon during Sale. It worked well for on year and then suddenly stopped working. I am unable to switch it on. I took it to service centre and they told that the logic board has to be replaced. The cost is around 45000. I am helpless. I dont want to invest more into that. I used the laptop very carefully but I think Amazon sent a defected piece on sale. All are Gud.. For now.. Apple,apple,apple, thats the first thing that must have flashed in you mind when you saw this product, so here i have a total breif review on the laptop...***Pros***4k Video Editing with Final Cut Pro X on this thing works like butter, there is heating issue that i am going to go to apple service center to get it checkedEveryday works like checking mail and is just gr8The Battery is just OVERPOWERED, works for around 11-12 hours on continuous work and 8-9 hours when editingThe graphics card scores 30 fps in cinebench which is not that badThe performance is also fine, 280 cb processor score on cinebenchSpeakers are really good with perfect bassDisplay brightness is 300 nits, which is fineThe Wi-Fi is extremely good, can get a network even from the living room while the router is in the bedroomVery thin and lightweightMacOS is good for School work if you know all the office applications for mac, for eg.Pages is WordMagSafe 2 is the best partGood Trackpad and Keyboard with backlightThe Storage is fast!, thanks to the M.2 based SSD!***Cons***Display, though the resolution is fairly good for a 13.3 inch display, the viewing angle is not appropriate for a 84k laptopGets heated up (Going to get it checked by apple support). Cooling not appropriate for this cpu, need a better thermal paste and fanRam management on MacOS Mojave is not good, 8 GBs of memory is not well distributed among all tasks running in backgroundMacOS is not made for gaming, you need to boot camp on this mac with Windows if you are really a hard-core gamerIntel HD integrated graphics at the price???, god damn it apple (Though its not bad, have seen GeForce 940MX at the same price)No Force trackpadBezels are way too thick in today\\'s standardsNo thunderbolt 3 or Usb CCan\\'t detect Android Devices until Android Device Explorer is installedThe Storage is less! (128 GB, will upgrade to 256 GB in a few years)***My Verdict***This devices is for them who want Battery and Power, and people who want to do Video Editing on Final Cut Pro X, if anyone has a heat up issue than you should Call apple Support and visit one service center immediately to get your laptop checked! Though the graphics is OK from my view, apple could have given better graphics like the radeon vega 8 graphics or Intel Iris Plus or Pro for a laptop that is so expensive! Everything else is Great! And MacOS is not that hard, i easily use both my Lenovo Gaming PC and my apple macbook air easily! Go for it if you are in the criteria I explained above! For hard-core video editing I would recommend atleast an iMac 4k or MacBook Pro Base Model because of its cooling Fan structure, Better Graphics and CPU! This Air is enough to edit 4k60fps videos but will slow down a bit in 5k60fps! While exporting the 4k60fps video the CPU and GPU went up to 104 degrees, this is the reason i am going to apple support! Thank You if you read the whole review because I spent a lot of time writing this!*Update on 8 Oct, 2019*Apple service did nothing, so I thought of doing my own service! Yes, I changed the thermal paste and dusted the fan, now, everything is running even better than ever, even the heating issua is solved! Now while exporting a 4k 60 fps video, it\\'s just around 80 degrees, hence no thermal throttling, Yay! After using Windows Operating system for the past 10+ years, I switched to Mac. The switch was inspired by the awesome reviews I got from my friends. I must say that they were all real and that the device and the tech is so very impressive. Be it the design,  be it the processing speed, be it the battery life......all are way ahead than that of a Windows device. I am satisfied to get the marvel of a tech in my hands. It is saving my time every now and then as I am stricken with an idea to pen a couplet, short story or poem.....I simply open the lid, note the idea and then simply close it....no need of shutting the OS down everytime. Working perfectly. MacBook Air is excellent. The build is super strong, the operating systems runs smooth. The trackpad and keyboard are great. The only thing that can be improved is its screen (the visuals). Not as good as expected. The hard disk is too small but if you carry an external hard disk you can solve that problem. Got it at the price of a Dell Windows laptop during Amazon sale. A great deal. Very handy laptop, light weight and portable. Mac OS is super cool. Battery backup was good. Defective product recieved,within 2 months of use, laptop gets switched off suddenly while on battery. Requires power input to restart again.Contacted service centre, they told its motherboard problem and replaced motherboard under warranty, but problem still persisting. Laptop still at service center. Earlier i was using toshiba laptop, satellite 340,lasted 8 yrs without any problem. Paid a premium for macbook air very dissapointed with apple quality of products. And to repair it outside warranty, parts cost as much as the laptop itself🙄 I was apprehensive of buying Apple product from Amazon as some reviews suggested that imported items are being sold. However what I got was fresh and genuine product, I checked warranty on Apple site with serial no. All serial no - on bill, box, inner box and in macOS itself were consistent. Display is too good and it feels like butter operating the device. Only thing is that price difference between this and 256GB version is too much. I brought this mac air on sep 2017. From past 1 week I am not able to turn on my mac, went to apple store and after troubleshooting they said it is having motherboard problem and need to replace which cost 50k, I was shocked and said how come in less than 2 year mac will have this issue. So kindly please beawre on this big bug mac air. Don\\'t want to mention anything for apple MAC book :)Super product I have my worst nightmare with the macbook air I bought. I bought it on theOctober 2018, it got into teouble in the month april 2019. It would turn was trying to restart automatically. I then reoaired it from apple care. It again got dead and woulnt turn onn. I put all the money into water. I dont know what to do with this. Everything about this product seems to be fine as of now. Got an option to upgrade to higher OS and install tools required for my work. Except for not so good sound quality while watching movies through itunes stores, other aspect seems to be fine. Higher storage options (256 GB) may be required for power users who may want to app development on this system. Current configuration suits light - medium heavy user(I belong to this category)- (need xcode debugging feature for my projects ). I was looking for an affordable long lasting light laptop and my search led me to this. I know Apple has launch a new Air but this is still a good performer and with the recent price cut this laptop makes so much sense. I was using MacBook Pro for last 8 years, and after it retired this replaced the Pro and is not doing a bad job at it at all. This is the worst  apple product I have ever seen ...6 month After purchase of this fake book ...some of its keys of keyboard  stopped working ...So the service center  replace my keyboard with the new one ...But after some months with  the new replaced  keyboard some of its key again stopped working .All these things happen in one year and 3 month timeline which is roughly 1.5 years of original purchase date ... ...When I spoke to the service center they told me that the warranty is over you need to pay 12000 rs ...So I don\\'t have any option. The cost is too high. ..So now I m working with the external keyboard which cost me merely 200 rs ... My friend bought the same macbook from the showroom and i must say its really working good and it doesnt show any fault at all .Till now .i wish i also bought this macbook from the showroom .... Amazing product..it has quality written all over it..great battery, easy to adapt if you are moving from windows..the trackpad, gestures, everything is so damm goodHad read many reviews about the display being bad...it is..if you are trying to look at atomic level details..its a fantastic screen with great audio output..Everything g screams quality and premium about the macbook..love it. From the very beginning the battery life was horrible . hardly 2 hours. And after using it for just a year it just stopped working . and i cannot even charge it. Terrible product sold by Amazon The rating isn\\'t for Apple\\'s performance. I exchanged my old MacBook Air 11\\' (2013) for MacBook Air 13.3\\' (2017): and I haven\\'t been disappointed. They both are fantastic machines, there isn\\'t a bit of change except the screen - it is slightly bigger and better...The rating for the seller - I would give 5 star for delivery and 4 star for packaging. However, the product came with multiple scratches. I am unable to conclude whose fault it is- Apple or the reseller (in this case - Cloudtail India Pvt Ltd).I have restored my previous backup and will observe the performance over the week. If it under performs- I will report it to the authorities. If it performs well, the scratches may have been anyone\\'s fault but can be ignored...I shall update this review in a week\\'s time... I preferred this over other good spec windows laptop, just for reason mac. 128 gb ssd was only concern as it may not be sufficient however adding external hd or flash drive will do the job for u. Overall even the screen is not full hd i did not find it much of the issue, however If u r concern about good display must for consider this as option. Additionaly over 13000 discount in last sale made this perfect deal. When i received, within 15 days i realised the hinges were loose. Then after less than 2 months very rare use i got a line on the display. The replacement window was only 10 days. Now i have given it for service and even apple doesn\\'t have a replacement policy. So i have to use a repaired device inspite of buying new. Very disappointing. Be careful while buying electronic products through Amazon.I bought this macbook for 56k on March 2018. After 1.5 years of usage, the display stopped working for no reason. The device never had any accidental drop or shock while I was using it through these years. The service center guy told me it would cost around 41k for screen replacement. Now I\\'m left with no option.If you are buying, I suggest you to buy it along with a protection plan or any extended warranty. MERITS..IT IS BEST IN ITS PERFORMANCE..SOUND QUALITY IS AMAZING..NICE PICTURE QUALITY...GREAT STABILIZATION..BEST UI(USER INTERFACE)..BEST LAPTOP FOR NORMAL HUMANS🤣 >50KDEMERITSCANNOT BE USED FOR GAMINGbut If You areNot a Productive person Then only You Play games..And...THERE\\'s nothing much bad about 3 years and still running! great product The elegant work of apple can be seen in this product. The design, the user friendliness, the compactness can be easily seen in this laptop. Coming to the performance, the speed of this is remarkable, and you can get to know the power of Mac os when you have another apple product. You can get one of the best movie experiences on this . Overall I would it a 4.5/5. I got a great deal on this laptop, which I have been using for almost a year now. I got it not only on discount but also was able to exchange my old laptop with this! Laptop works really well, it was a good purchase!'"
            ],
            "application/vnd.google.colaboratory.intrinsic+json": {
              "type": "string"
            }
          },
          "metadata": {},
          "execution_count": 6
        }
      ],
      "source": [
        "# Joining the list into one string/text\n",
        "text = ' '.join(book)\n",
        "text"
      ]
    },
    {
      "cell_type": "code",
      "execution_count": null,
      "metadata": {
        "id": "lbDUy0hAoRzy",
        "colab": {
          "base_uri": "https://localhost:8080/",
          "height": 105
        },
        "outputId": "d99cf7ed-7418-47da-be9e-146eece6c5c9"
      },
      "outputs": [
        {
          "output_type": "execute_result",
          "data": {
            "text/plain": [
              "'Its amazing battery last around 10 12 hrsbest laptop for students and coders Finally a MacBook possession Got it in 50k in Diwali sale Technically good laptopGood Newsluxury product niche technology good battery life reliable machine other laptops crash and become defunct in 610 years no antivirus required security of data and transactions much better Terrific sense of possession  prideBad News Problems will be there if you are switching from windows based system  very less space in hard disk no CD drive inability to transfer data from Mac to your existing external hard disc unless you format it apps are mostly paid and re unreasonably expensive no free apps which are available otherwise on google play store even the angry bird costs Rs 400  all printers are not compatible eg the most economical MFD laser printer RICOH SP 111 cant be used huge compatibility issues with Pages MS Word and Keynote powerpoint unless you master it by working on these still mostly the document and slides either do not open in windows environment or have distortion issues you need to spend extra for an external CD writer and tp buy a carry bag Mac con not be connected to most of the projectors unless you buy some connectors which are expensive and theres no clarity which one to buy and from where you cant connect it to your TV the ports are different and again theres no clarity  customer support manuals or help section are silent  Marketing strategy for Indian market if at all has been planned has been very bad If these critical issues and a few more not mentioned here are handled properly the Mac can sweep away other laptops in India Presently it doesnt seem to be happeningOverall VerdictIf compatibility issues mentioned above do not bother you go for it Else think hard  If its an emotional issue to own a long cherished Mac then its a different thing Go ahead and gradually you would figure out most but not all of the above problems like I did Best Laptop under 60k If you dont want any accounting softwares like tally or busy then go for it better than windows in every term I just love its battery life with sleek look 😍Now talking about MS officeIts available on app store free for 1 monthAfter that you will have to payYou cannot install pirated version but if you install Windows 7 or any other version then u can use Ms office for freeBut in MacBook there are other apps which are good substitute for Ms office appsNumbers for ExcelPages for wordKeynote for PowerPointAnd you can convert your numbers file to Excel file or csv fileSame for the pages  keynoteSo no need of Ms office for meCons1 U cannot play games your laptop will just heat up battery will drain U cannot play pubg mobile on emulator if you are pubg lover😁2 Storage 128gb it will work fine but if you want to store movies or TV shows u cant u have to buy external hard disk Pros1 Light weight and super fast response time2 Highly optimize which avoids any kind of process lag3 Beautiful looks and feels like a prime product4 Long battery life and awesome sound clarity5 Purchased during Amazon sale cost around 52kCons1 Not enough memory2 Limited softwares available3 Operating system is not that userfriendlyProbably one of the best option for 50k laptops  I am very upset about the product as I checked my MacBook 15 days back in December it didn’t start It was luckily in warranty  I took it to the service centre and they informed me the mother board and battery collapsed If it was not in warranty I had to pay 47000 I asked for replacement of the product and I was refused They got it fixed for me I don’t know why should I pay 57000 for Mac quality If this is the quality and the service then I have to go to other product In January my product expiry was due They have give an extension of 3 months warranty when I had asked for 1 year Very disappointed Reason for 1 star is I ot an defective piece The sound quality was not good  My laptop started giving issues with power button from  4 months The screen would flicker and it would shutdown automatically after sometime Took the mac to service centre They replaced the motherboard free of cost as it was in warranty Now my mac is perfectly fine  Got the Apple Macbook air on amazon discount sale1 The OS is smooth and is a breeze to work with Ships with macOS sierra but update is available to macOS mojave2 The design and build quality as you can expect from an apple product is top notch3 Excellen sound quality keyboardCons1 128GB may be low incase you want to have movies and media in your laptopYou need to carry around a hard disk that kind of nullifies the advantage of having a light weight laptop2 Display resolution is not exactly upto the mark White line coming on screen in just three months of purchase from amazon Doubting the quality of the products sold on amazon Bought this product recently on 5 April was working perfectly fine for few days and on 16 April the Mac working charge or turn on Apple service centre says they can’t fix the product under warranty and amazon in try to come up with a solution ever since  no solid answer  I m stuck with a dead mac after using it for 10days Request seller  Amazon or apple to take full responsibility Hi Think thousand time before buying One calm night i was cuddling in jaipuri blanket while enjoying youtube on this expensive machine Cold night and little excitement created electrostatic charge which spike though spaceBar button thats how it went to deep sleep forever Nothing can bring it back and i am in no mood in spending another fortune on this machine Apple of you icare this is the least of security feature included in all electronic devices And the best part it was a week after Warranty expiration date We buy macbooks expecting that it will lasts at least 3 years not in my case they are saying it will costs 46000rs to repair i bought this in 58000rs if i dont want to repair it still Ive to pay 2500rs as diagnostic cost not recommended I use this for music production and it works awesomehowever the display is not so good as it should have been in a 63k laptop Never purchase any Apple products I bought 3 and start giving problems just after 6 months I need to visit 4 times service station which is far 12 km Again MacBook start acting dead after 6 more months Mean a top priced laptop giving problems in every 6 monthsI have good experiences with other brands of laptops I hope this comment can help to save somebody’s money Good purchase of mineBest for programmingOnly some heating issuesbut can be ignored I bought MacBook air in 2017 it was working fine till last month It suddenly stopped charging I took it apple care and was shocked to hear the feedback They told me that the motherboard is dead and i have to buy a new motherboard The cost was 50k  i bought at 53k in 2017 We buy Apple products because they are meant to be longlasting I am really disappointed and would prefer other companies next time They earn extra money from selling an extended warranty Bought it on 9th July stopped working  not turning power on by 4th Nov Adding to this disappointment is  Apples refusal to repair it under warranty stating that there is corrosion in Logic Board Amazon also did not help The seller  Appario  does not like to be bothered with it Sometimes I wonder if buying electronics online is a good idea I bought it last year from Amazon during Sale It worked well for on year and then suddenly stopped working I am unable to switch it on I took it to service centre and they told that the logic board has to be replaced The cost is around 45000 I am helpless I dont want to invest more into that I used the laptop very carefully but I think Amazon sent a defected piece on sale All are Gud For now Appleappleapple thats the first thing that must have flashed in you mind when you saw this product so here i have a total breif review on the laptopPros4k Video Editing with Final Cut Pro X on this thing works like butter there is heating issue that i am going to go to apple service center to get it checkedEveryday works like checking mail and is just gr8The Battery is just OVERPOWERED works for around 1112 hours on continuous work and 89 hours when editingThe graphics card scores 30 fps in cinebench which is not that badThe performance is also fine 280 cb processor score on cinebenchSpeakers are really good with perfect bassDisplay brightness is 300 nits which is fineThe WiFi is extremely good can get a network even from the living room while the router is in the bedroomVery thin and lightweightMacOS is good for School work if you know all the office applications for mac for egPages is WordMagSafe 2 is the best partGood Trackpad and Keyboard with backlightThe Storage is fast thanks to the M2 based SSDConsDisplay though the resolution is fairly good for a 133 inch display the viewing angle is not appropriate for a 84k laptopGets heated up Going to get it checked by apple support Cooling not appropriate for this cpu need a better thermal paste and fanRam management on MacOS Mojave is not good 8 GBs of memory is not well distributed among all tasks running in backgroundMacOS is not made for gaming you need to boot camp on this mac with Windows if you are really a hardcore gamerIntel HD integrated graphics at the price god damn it apple Though its not bad have seen GeForce 940MX at the same priceNo Force trackpadBezels are way too thick in todays standardsNo thunderbolt 3 or Usb CCant detect Android Devices until Android Device Explorer is installedThe Storage is less 128 GB will upgrade to 256 GB in a few yearsMy VerdictThis devices is for them who want Battery and Power and people who want to do Video Editing on Final Cut Pro X if anyone has a heat up issue than you should Call apple Support and visit one service center immediately to get your laptop checked Though the graphics is OK from my view apple could have given better graphics like the radeon vega 8 graphics or Intel Iris Plus or Pro for a laptop that is so expensive Everything else is Great And MacOS is not that hard i easily use both my Lenovo Gaming PC and my apple macbook air easily Go for it if you are in the criteria I explained above For hardcore video editing I would recommend atleast an iMac 4k or MacBook Pro Base Model because of its cooling Fan structure Better Graphics and CPU This Air is enough to edit 4k60fps videos but will slow down a bit in 5k60fps While exporting the 4k60fps video the CPU and GPU went up to 104 degrees this is the reason i am going to apple support Thank You if you read the whole review because I spent a lot of time writing thisUpdate on 8 Oct 2019Apple service did nothing so I thought of doing my own service Yes I changed the thermal paste and dusted the fan now everything is running even better than ever even the heating issua is solved Now while exporting a 4k 60 fps video its just around 80 degrees hence no thermal throttling Yay After using Windows Operating system for the past 10 years I switched to Mac The switch was inspired by the awesome reviews I got from my friends I must say that they were all real and that the device and the tech is so very impressive Be it the design  be it the processing speed be it the battery lifeall are way ahead than that of a Windows device I am satisfied to get the marvel of a tech in my hands It is saving my time every now and then as I am stricken with an idea to pen a couplet short story or poemI simply open the lid note the idea and then simply close itno need of shutting the OS down everytime Working perfectly MacBook Air is excellent The build is super strong the operating systems runs smooth The trackpad and keyboard are great The only thing that can be improved is its screen the visuals Not as good as expected The hard disk is too small but if you carry an external hard disk you can solve that problem Got it at the price of a Dell Windows laptop during Amazon sale A great deal Very handy laptop light weight and portable Mac OS is super cool Battery backup was good Defective product recievedwithin 2 months of use laptop gets switched off suddenly while on battery Requires power input to restart againContacted service centre they told its motherboard problem and replaced motherboard under warranty but problem still persisting Laptop still at service center Earlier i was using toshiba laptop satellite 340lasted 8 yrs without any problem Paid a premium for macbook air very dissapointed with apple quality of products And to repair it outside warranty parts cost as much as the laptop itself🙄 I was apprehensive of buying Apple product from Amazon as some reviews suggested that imported items are being sold However what I got was fresh and genuine product I checked warranty on Apple site with serial no All serial no  on bill box inner box and in macOS itself were consistent Display is too good and it feels like butter operating the device Only thing is that price difference between this and 256GB version is too much I brought this mac air on sep 2017 From past 1 week I am not able to turn on my mac went to apple store and after troubleshooting they said it is having motherboard problem and need to replace which cost 50k I was shocked and said how come in less than 2 year mac will have this issue So kindly please beawre on this big bug mac air Dont want to mention anything for apple MAC book Super product I have my worst nightmare with the macbook air I bought I bought it on theOctober 2018 it got into teouble in the month april 2019 It would turn was trying to restart automatically I then reoaired it from apple care It again got dead and woulnt turn onn I put all the money into water I dont know what to do with this Everything about this product seems to be fine as of now Got an option to upgrade to higher OS and install tools required for my work Except for not so good sound quality while watching movies through itunes stores other aspect seems to be fine Higher storage options 256 GB may be required for power users who may want to app development on this system Current configuration suits light  medium heavy userI belong to this category need xcode debugging feature for my projects  I was looking for an affordable long lasting light laptop and my search led me to this I know Apple has launch a new Air but this is still a good performer and with the recent price cut this laptop makes so much sense I was using MacBook Pro for last 8 years and after it retired this replaced the Pro and is not doing a bad job at it at all This is the worst  apple product I have ever seen 6 month After purchase of this fake book some of its keys of keyboard  stopped working So the service center  replace my keyboard with the new one But after some months with  the new replaced  keyboard some of its key again stopped working All these things happen in one year and 3 month timeline which is roughly 15 years of original purchase date  When I spoke to the service center they told me that the warranty is over you need to pay 12000 rs So I dont have any option The cost is too high So now I m working with the external keyboard which cost me merely 200 rs  My friend bought the same macbook from the showroom and i must say its really working good and it doesnt show any fault at all Till now i wish i also bought this macbook from the showroom  Amazing productit has quality written all over itgreat battery easy to adapt if you are moving from windowsthe trackpad gestures everything is so damm goodHad read many reviews about the display being badit isif you are trying to look at atomic level detailsits a fantastic screen with great audio outputEverything g screams quality and premium about the macbooklove it From the very beginning the battery life was horrible  hardly 2 hours And after using it for just a year it just stopped working  and i cannot even charge it Terrible product sold by Amazon The rating isnt for Apples performance I exchanged my old MacBook Air 11 2013 for MacBook Air 133 2017 and I havent been disappointed They both are fantastic machines there isnt a bit of change except the screen  it is slightly bigger and betterThe rating for the seller  I would give 5 star for delivery and 4 star for packaging However the product came with multiple scratches I am unable to conclude whose fault it is Apple or the reseller in this case  Cloudtail India Pvt LtdI have restored my previous backup and will observe the performance over the week If it under performs I will report it to the authorities If it performs well the scratches may have been anyones fault but can be ignoredI shall update this review in a weeks time I preferred this over other good spec windows laptop just for reason mac 128 gb ssd was only concern as it may not be sufficient however adding external hd or flash drive will do the job for u Overall even the screen is not full hd i did not find it much of the issue however If u r concern about good display must for consider this as option Additionaly over 13000 discount in last sale made this perfect deal When i received within 15 days i realised the hinges were loose Then after less than 2 months very rare use i got a line on the display The replacement window was only 10 days Now i have given it for service and even apple doesnt have a replacement policy So i have to use a repaired device inspite of buying new Very disappointing Be careful while buying electronic products through AmazonI bought this macbook for 56k on March 2018 After 15 years of usage the display stopped working for no reason The device never had any accidental drop or shock while I was using it through these years The service center guy told me it would cost around 41k for screen replacement Now Im left with no optionIf you are buying I suggest you to buy it along with a protection plan or any extended warranty MERITSIT IS BEST IN ITS PERFORMANCESOUND QUALITY IS AMAZINGNICE PICTURE QUALITYGREAT STABILIZATIONBEST UIUSER INTERFACEBEST LAPTOP FOR NORMAL HUMANS🤣 50KDEMERITSCANNOT BE USED FOR GAMINGbut If You areNot a Productive person Then only You Play gamesAndTHEREs nothing much bad about 3 years and still running great product The elegant work of apple can be seen in this product The design the user friendliness the compactness can be easily seen in this laptop Coming to the performance the speed of this is remarkable and you can get to know the power of Mac os when you have another apple product You can get one of the best movie experiences on this  Overall I would it a 455 I got a great deal on this laptop which I have been using for almost a year now I got it not only on discount but also was able to exchange my old laptop with this Laptop works really well it was a good purchase'"
            ],
            "application/vnd.google.colaboratory.intrinsic+json": {
              "type": "string"
            }
          },
          "metadata": {},
          "execution_count": 7
        }
      ],
      "source": [
        "#Punctuation\n",
        "no_punc_text = text.translate(str.maketrans('', '', string.punctuation)) #with arguments (x, y, z) where 'x' and 'y'\n",
        "# must be equal-length strings and characters in 'x'\n",
        "# are replaced by characters in 'y'. 'z'\n",
        "# is a string (string.punctuation here)\n",
        "no_punc_text"
      ]
    },
    {
      "cell_type": "code",
      "execution_count": null,
      "metadata": {
        "id": "wReHU3TxoRz3",
        "colab": {
          "base_uri": "https://localhost:8080/"
        },
        "outputId": "567c86d0-a1ad-4cf4-fcbf-d8230a803926"
      },
      "outputs": [
        {
          "output_type": "stream",
          "name": "stderr",
          "text": [
            "[nltk_data] Downloading package punkt to /root/nltk_data...\n",
            "[nltk_data]   Unzipping tokenizers/punkt.zip.\n",
            "[nltk_data] Downloading package stopwords to /root/nltk_data...\n",
            "[nltk_data]   Unzipping corpora/stopwords.zip.\n"
          ]
        },
        {
          "output_type": "execute_result",
          "data": {
            "text/plain": [
              "True"
            ]
          },
          "metadata": {},
          "execution_count": 8
        }
      ],
      "source": [
        "#nltk - Natural language toolkit\n",
        "import nltk\n",
        "from nltk.corpus import stopwords\n",
        "nltk.download('punkt')\n",
        "nltk.download('stopwords')"
      ]
    },
    {
      "cell_type": "code",
      "execution_count": null,
      "metadata": {
        "id": "P3vhheaJoRzz",
        "colab": {
          "base_uri": "https://localhost:8080/"
        },
        "outputId": "9eb79545-b921-437e-fe74-05e367f0bbf2"
      },
      "outputs": [
        {
          "output_type": "stream",
          "name": "stdout",
          "text": [
            "['Its', 'amazing', 'battery', 'last', 'around', '10', '12', 'hrsbest', 'laptop', 'for', 'students', 'and', 'coders', 'Finally', 'a', 'MacBook', 'possession', 'Got', 'it', 'in', '50k', 'in', 'Diwali', 'sale', 'Technically', 'good', 'laptopGood', 'Newsluxury', 'product', 'niche', 'technology', 'good', 'battery', 'life', 'reliable', 'machine', 'other', 'laptops', 'crash', 'and', 'become', 'defunct', 'in', '610', 'years', 'no', 'antivirus', 'required', 'security', 'of']\n"
          ]
        }
      ],
      "source": [
        "#Tokenization\n",
        "from nltk.tokenize import word_tokenize\n",
        "text_tokens = word_tokenize(no_punc_text)\n",
        "print(text_tokens[0:50])"
      ]
    },
    {
      "cell_type": "code",
      "source": [
        "len(text_tokens)"
      ],
      "metadata": {
        "colab": {
          "base_uri": "https://localhost:8080/"
        },
        "id": "z9CrRyHzW21S",
        "outputId": "b29054c9-a9fa-46cb-ffae-30b09ef3b72e"
      },
      "execution_count": null,
      "outputs": [
        {
          "output_type": "execute_result",
          "data": {
            "text/plain": [
              "3444"
            ]
          },
          "metadata": {},
          "execution_count": 10
        }
      ]
    },
    {
      "cell_type": "code",
      "source": [
        "#Remove stopwords\n",
        "import nltk\n",
        "from nltk.corpus import stopwords\n",
        "\n",
        "my_stop_words = stopwords.words('english')\n",
        "my_stop_words.append('the')\n",
        "my_stop_words.append('Its')\n",
        "\n",
        "no_stop_tokens = [word for word in text_tokens if not word in my_stop_words]\n",
        "print(no_stop_tokens[0:40])"
      ],
      "metadata": {
        "colab": {
          "base_uri": "https://localhost:8080/"
        },
        "id": "uZFTd0D-WJjG",
        "outputId": "6168d37c-f642-4747-fc13-9719feb22c3a"
      },
      "execution_count": null,
      "outputs": [
        {
          "output_type": "stream",
          "name": "stdout",
          "text": [
            "['amazing', 'battery', 'last', 'around', '10', '12', 'hrsbest', 'laptop', 'students', 'coders', 'Finally', 'MacBook', 'possession', 'Got', '50k', 'Diwali', 'sale', 'Technically', 'good', 'laptopGood', 'Newsluxury', 'product', 'niche', 'technology', 'good', 'battery', 'life', 'reliable', 'machine', 'laptops', 'crash', 'become', 'defunct', '610', 'years', 'antivirus', 'required', 'security', 'data', 'transactions']\n"
          ]
        }
      ]
    },
    {
      "cell_type": "code",
      "execution_count": null,
      "metadata": {
        "id": "VVFHMax4oRzz",
        "colab": {
          "base_uri": "https://localhost:8080/"
        },
        "outputId": "48dbd188-4888-443c-e48f-91eb413c5685"
      },
      "outputs": [
        {
          "output_type": "execute_result",
          "data": {
            "text/plain": [
              "2072"
            ]
          },
          "metadata": {},
          "execution_count": 12
        }
      ],
      "source": [
        "len(no_stop_tokens)"
      ]
    },
    {
      "cell_type": "code",
      "execution_count": null,
      "metadata": {
        "id": "yo4WbfpcoRz5",
        "colab": {
          "base_uri": "https://localhost:8080/"
        },
        "outputId": "8c639d2c-11f3-499b-ae7b-650df78087a5"
      },
      "outputs": [
        {
          "output_type": "stream",
          "name": "stdout",
          "text": [
            "['amazing', 'battery', 'last', 'around', '10', '12', 'hrsbest', 'laptop', 'students', 'coders', 'finally', 'macbook', 'possession', 'got', '50k', 'diwali', 'sale', 'technically', 'good', 'laptopgood', 'newsluxury', 'product', 'niche', 'technology', 'good']\n"
          ]
        }
      ],
      "source": [
        "#Noramalize the data\n",
        "lower_words = [x.lower() for x in no_stop_tokens]\n",
        "print(lower_words[0:25])"
      ]
    },
    {
      "cell_type": "code",
      "execution_count": null,
      "metadata": {
        "id": "2IsWdu_MoRz6",
        "colab": {
          "base_uri": "https://localhost:8080/"
        },
        "outputId": "6d02cdb4-18ce-4e10-d1ff-520824f560e9"
      },
      "outputs": [
        {
          "output_type": "stream",
          "name": "stdout",
          "text": [
            "['amaz', 'batteri', 'last', 'around', '10', '12', 'hrsbest', 'laptop', 'student', 'coder', 'final', 'macbook', 'possess', 'got', '50k', 'diwali', 'sale', 'technic', 'good', 'laptopgood', 'newsluxuri', 'product', 'nich', 'technolog', 'good', 'batteri', 'life', 'reliabl', 'machin', 'laptop', 'crash', 'becom', 'defunct', '610', 'year', 'antiviru', 'requir', 'secur', 'data', 'transact']\n"
          ]
        }
      ],
      "source": [
        "#Stemming\n",
        "from nltk.stem import PorterStemmer\n",
        "ps = PorterStemmer()\n",
        "stemmed_tokens = [ps.stem(word) for word in lower_words]\n",
        "print(stemmed_tokens[0:40])"
      ]
    },
    {
      "cell_type": "code",
      "execution_count": null,
      "metadata": {
        "id": "4M4yWLn6oRz7"
      },
      "outputs": [],
      "source": [
        "#!python -m spacy download en"
      ]
    },
    {
      "cell_type": "code",
      "execution_count": null,
      "metadata": {
        "id": "Dfyio5x7oRz7"
      },
      "outputs": [],
      "source": [
        "# NLP english language model of spacy library\n",
        "nlp = spacy.load('en_core_web_sm') "
      ]
    },
    {
      "cell_type": "code",
      "execution_count": null,
      "metadata": {
        "id": "dSzxkaIOoRz7",
        "colab": {
          "base_uri": "https://localhost:8080/"
        },
        "outputId": "b38d9b99-96ec-42d9-d64a-b994d38f02d1"
      },
      "outputs": [
        {
          "output_type": "stream",
          "name": "stdout",
          "text": [
            "amazing battery last around 10 12 hrsbest laptop students coders Finally MacBook possession Got 50k Diwali sale Technically good laptopGood Newsluxury product niche technology good battery life reliable machine laptops crash become defunct 610 years antivirus required security data transactions\n"
          ]
        }
      ],
      "source": [
        "# lemmas being one of them, but mostly POS, which will follow later\n",
        "doc = nlp(' '.join(no_stop_tokens))\n",
        "print(doc[0:40])"
      ]
    },
    {
      "cell_type": "code",
      "source": [
        "len(doc)"
      ],
      "metadata": {
        "colab": {
          "base_uri": "https://localhost:8080/"
        },
        "id": "QtvQp0SVhnWv",
        "outputId": "dac71b5d-c3da-4a05-c3a5-73be656dbc83"
      },
      "execution_count": null,
      "outputs": [
        {
          "output_type": "execute_result",
          "data": {
            "text/plain": [
              "2101"
            ]
          },
          "metadata": {},
          "execution_count": 18
        }
      ]
    },
    {
      "cell_type": "code",
      "execution_count": null,
      "metadata": {
        "id": "qF3Q0dVXoRz7",
        "colab": {
          "base_uri": "https://localhost:8080/"
        },
        "outputId": "ca86c7e2-676e-49d1-f76e-8bde9f85ac07"
      },
      "outputs": [
        {
          "output_type": "stream",
          "name": "stdout",
          "text": [
            "['amazing', 'battery', 'last', 'around', '10', '12', 'hrsb', 'laptop', 'student', 'coder', 'finally', 'MacBook', 'possession', 'Got', '50k', 'diwali', 'sale', 'technically', 'good', 'laptopgood', 'newsluxury', 'product', 'niche', 'technology', 'good']\n"
          ]
        }
      ],
      "source": [
        "lemmas = [token.lemma_ for token in doc]\n",
        "print(lemmas[0:25])"
      ]
    },
    {
      "cell_type": "markdown",
      "metadata": {
        "id": "PnjymAY2oRz8"
      },
      "source": [
        "#### Feature Extraction"
      ]
    },
    {
      "cell_type": "code",
      "execution_count": null,
      "metadata": {
        "id": "xVOXItg3oR0G"
      },
      "outputs": [],
      "source": [
        "#import sklearn package import countvector function, will apply the function create a variable, will fit and transform that variable using our data \n",
        "\n",
        "from sklearn.feature_extraction.text import CountVectorizer\n",
        "vectorizer = CountVectorizer()\n",
        "X = vectorizer.fit_transform(lemmas)"
      ]
    },
    {
      "cell_type": "code",
      "source": [
        "pd.DataFrame.from_records([vectorizer.vocabulary_]).T.sort_values(0,ascending=False).head(20)"
      ],
      "metadata": {
        "colab": {
          "base_uri": "https://localhost:8080/",
          "height": 677
        },
        "id": "AznxmXPzGtfy",
        "outputId": "034738fa-4155-4a92-ff39-2b1eeaf8c97d"
      },
      "execution_count": null,
      "outputs": [
        {
          "output_type": "execute_result",
          "data": {
            "text/plain": [
              "               0\n",
              "yr           888\n",
              "youtube      887\n",
              "you          886\n",
              "yes          885\n",
              "yearsmy      884\n",
              "year         883\n",
              "yay          882\n",
              "xcode        881\n",
              "writer       880\n",
              "write        879\n",
              "woulnt       878\n",
              "would        877\n",
              "working      876\n",
              "work         875\n",
              "wordmagsafe  874\n",
              "wordkeynote  873\n",
              "word         872\n",
              "wonder       871\n",
              "without      870\n",
              "within       869"
            ],
            "text/html": [
              "\n",
              "  <div id=\"df-24cefb99-729b-4106-bc45-382bce34296e\">\n",
              "    <div class=\"colab-df-container\">\n",
              "      <div>\n",
              "<style scoped>\n",
              "    .dataframe tbody tr th:only-of-type {\n",
              "        vertical-align: middle;\n",
              "    }\n",
              "\n",
              "    .dataframe tbody tr th {\n",
              "        vertical-align: top;\n",
              "    }\n",
              "\n",
              "    .dataframe thead th {\n",
              "        text-align: right;\n",
              "    }\n",
              "</style>\n",
              "<table border=\"1\" class=\"dataframe\">\n",
              "  <thead>\n",
              "    <tr style=\"text-align: right;\">\n",
              "      <th></th>\n",
              "      <th>0</th>\n",
              "    </tr>\n",
              "  </thead>\n",
              "  <tbody>\n",
              "    <tr>\n",
              "      <th>yr</th>\n",
              "      <td>888</td>\n",
              "    </tr>\n",
              "    <tr>\n",
              "      <th>youtube</th>\n",
              "      <td>887</td>\n",
              "    </tr>\n",
              "    <tr>\n",
              "      <th>you</th>\n",
              "      <td>886</td>\n",
              "    </tr>\n",
              "    <tr>\n",
              "      <th>yes</th>\n",
              "      <td>885</td>\n",
              "    </tr>\n",
              "    <tr>\n",
              "      <th>yearsmy</th>\n",
              "      <td>884</td>\n",
              "    </tr>\n",
              "    <tr>\n",
              "      <th>year</th>\n",
              "      <td>883</td>\n",
              "    </tr>\n",
              "    <tr>\n",
              "      <th>yay</th>\n",
              "      <td>882</td>\n",
              "    </tr>\n",
              "    <tr>\n",
              "      <th>xcode</th>\n",
              "      <td>881</td>\n",
              "    </tr>\n",
              "    <tr>\n",
              "      <th>writer</th>\n",
              "      <td>880</td>\n",
              "    </tr>\n",
              "    <tr>\n",
              "      <th>write</th>\n",
              "      <td>879</td>\n",
              "    </tr>\n",
              "    <tr>\n",
              "      <th>woulnt</th>\n",
              "      <td>878</td>\n",
              "    </tr>\n",
              "    <tr>\n",
              "      <th>would</th>\n",
              "      <td>877</td>\n",
              "    </tr>\n",
              "    <tr>\n",
              "      <th>working</th>\n",
              "      <td>876</td>\n",
              "    </tr>\n",
              "    <tr>\n",
              "      <th>work</th>\n",
              "      <td>875</td>\n",
              "    </tr>\n",
              "    <tr>\n",
              "      <th>wordmagsafe</th>\n",
              "      <td>874</td>\n",
              "    </tr>\n",
              "    <tr>\n",
              "      <th>wordkeynote</th>\n",
              "      <td>873</td>\n",
              "    </tr>\n",
              "    <tr>\n",
              "      <th>word</th>\n",
              "      <td>872</td>\n",
              "    </tr>\n",
              "    <tr>\n",
              "      <th>wonder</th>\n",
              "      <td>871</td>\n",
              "    </tr>\n",
              "    <tr>\n",
              "      <th>without</th>\n",
              "      <td>870</td>\n",
              "    </tr>\n",
              "    <tr>\n",
              "      <th>within</th>\n",
              "      <td>869</td>\n",
              "    </tr>\n",
              "  </tbody>\n",
              "</table>\n",
              "</div>\n",
              "      <button class=\"colab-df-convert\" onclick=\"convertToInteractive('df-24cefb99-729b-4106-bc45-382bce34296e')\"\n",
              "              title=\"Convert this dataframe to an interactive table.\"\n",
              "              style=\"display:none;\">\n",
              "        \n",
              "  <svg xmlns=\"http://www.w3.org/2000/svg\" height=\"24px\"viewBox=\"0 0 24 24\"\n",
              "       width=\"24px\">\n",
              "    <path d=\"M0 0h24v24H0V0z\" fill=\"none\"/>\n",
              "    <path d=\"M18.56 5.44l.94 2.06.94-2.06 2.06-.94-2.06-.94-.94-2.06-.94 2.06-2.06.94zm-11 1L8.5 8.5l.94-2.06 2.06-.94-2.06-.94L8.5 2.5l-.94 2.06-2.06.94zm10 10l.94 2.06.94-2.06 2.06-.94-2.06-.94-.94-2.06-.94 2.06-2.06.94z\"/><path d=\"M17.41 7.96l-1.37-1.37c-.4-.4-.92-.59-1.43-.59-.52 0-1.04.2-1.43.59L10.3 9.45l-7.72 7.72c-.78.78-.78 2.05 0 2.83L4 21.41c.39.39.9.59 1.41.59.51 0 1.02-.2 1.41-.59l7.78-7.78 2.81-2.81c.8-.78.8-2.07 0-2.86zM5.41 20L4 18.59l7.72-7.72 1.47 1.35L5.41 20z\"/>\n",
              "  </svg>\n",
              "      </button>\n",
              "      \n",
              "  <style>\n",
              "    .colab-df-container {\n",
              "      display:flex;\n",
              "      flex-wrap:wrap;\n",
              "      gap: 12px;\n",
              "    }\n",
              "\n",
              "    .colab-df-convert {\n",
              "      background-color: #E8F0FE;\n",
              "      border: none;\n",
              "      border-radius: 50%;\n",
              "      cursor: pointer;\n",
              "      display: none;\n",
              "      fill: #1967D2;\n",
              "      height: 32px;\n",
              "      padding: 0 0 0 0;\n",
              "      width: 32px;\n",
              "    }\n",
              "\n",
              "    .colab-df-convert:hover {\n",
              "      background-color: #E2EBFA;\n",
              "      box-shadow: 0px 1px 2px rgba(60, 64, 67, 0.3), 0px 1px 3px 1px rgba(60, 64, 67, 0.15);\n",
              "      fill: #174EA6;\n",
              "    }\n",
              "\n",
              "    [theme=dark] .colab-df-convert {\n",
              "      background-color: #3B4455;\n",
              "      fill: #D2E3FC;\n",
              "    }\n",
              "\n",
              "    [theme=dark] .colab-df-convert:hover {\n",
              "      background-color: #434B5C;\n",
              "      box-shadow: 0px 1px 3px 1px rgba(0, 0, 0, 0.15);\n",
              "      filter: drop-shadow(0px 1px 2px rgba(0, 0, 0, 0.3));\n",
              "      fill: #FFFFFF;\n",
              "    }\n",
              "  </style>\n",
              "\n",
              "      <script>\n",
              "        const buttonEl =\n",
              "          document.querySelector('#df-24cefb99-729b-4106-bc45-382bce34296e button.colab-df-convert');\n",
              "        buttonEl.style.display =\n",
              "          google.colab.kernel.accessAllowed ? 'block' : 'none';\n",
              "\n",
              "        async function convertToInteractive(key) {\n",
              "          const element = document.querySelector('#df-24cefb99-729b-4106-bc45-382bce34296e');\n",
              "          const dataTable =\n",
              "            await google.colab.kernel.invokeFunction('convertToInteractive',\n",
              "                                                     [key], {});\n",
              "          if (!dataTable) return;\n",
              "\n",
              "          const docLinkHtml = 'Like what you see? Visit the ' +\n",
              "            '<a target=\"_blank\" href=https://colab.research.google.com/notebooks/data_table.ipynb>data table notebook</a>'\n",
              "            + ' to learn more about interactive tables.';\n",
              "          element.innerHTML = '';\n",
              "          dataTable['output_type'] = 'display_data';\n",
              "          await google.colab.output.renderOutput(dataTable, element);\n",
              "          const docLink = document.createElement('div');\n",
              "          docLink.innerHTML = docLinkHtml;\n",
              "          element.appendChild(docLink);\n",
              "        }\n",
              "      </script>\n",
              "    </div>\n",
              "  </div>\n",
              "  "
            ]
          },
          "metadata": {},
          "execution_count": 21
        }
      ]
    },
    {
      "cell_type": "code",
      "execution_count": null,
      "metadata": {
        "id": "76ylf9yyoR0L",
        "colab": {
          "base_uri": "https://localhost:8080/"
        },
        "outputId": "73830544-8ccf-4094-aa01-0fc3f03da177"
      },
      "outputs": [
        {
          "output_type": "stream",
          "name": "stdout",
          "text": [
            "{'amazing': 69, 'battery': 118, 'last': 457, 'around': 94, '10': 0, '12': 6, 'hrsb': 393, 'laptop': 450, 'student': 764, 'coder': 179, 'finally': 319, 'macbook': 489, 'possession': 611, 'got': 359, '50k': 34, 'diwali': 248, 'sale': 686, 'technically': 780, 'good': 356, 'laptopgood': 453, 'newsluxury': 541, 'product': 630, 'niche': 543, 'technology': 781, 'life': 467, 'reliable': 662, 'machine': 491, 'crash': 204, 'become': 122, 'defunct': 225, '610': 44, 'year': 883, 'antivirus': 80, 'require': 670, 'security': 699, 'datum': 216, 'transaction': 819, 'much': 531, 'well': 858, 'terrific': 786, 'sense': 705, 'pridebad': 621, 'news': 540, 'problems': 626, 'switch': 773, 'window': 865, 'base': 116, 'system': 774, 'less': 464, 'space': 739, 'hard': 373, 'disk': 243, 'cd': 165, 'drive': 253, 'inability': 407, 'transfer': 820, 'mac': 488, 'exist': 290, 'external': 301, 'disc': 241, 'unless': 827, 'format': 330, 'app': 83, 'mostly': 525, 'pay': 587, 'unreasonably': 828, 'expensive': 292, 'free': 333, 'available': 102, 'otherwise': 575, 'google': 358, 'play': 604, 'store': 758, 'even': 277, 'angry': 77, 'bird': 131, 'cost': 200, '400': 25, 'printer': 623, 'compatible': 187, 'eg': 265, 'economical': 261, 'mfd': 513, 'laser': 456, 'ricoh': 680, 'sp': 738, '111': 4, 'can': 155, 'not': 548, 'use': 835, 'huge': 394, 'compatibility': 186, 'issue': 427, 'pages': 582, 'ms': 530, 'word': 872, 'keynote': 443, 'powerpoint': 613, 'master': 503, 'work': 875, 'still': 755, 'document': 250, 'slide': 724, 'either': 267, 'open': 566, 'environment': 276, 'distortion': 246, 'need': 536, 'spend': 744, 'extra': 302, 'writer': 880, 'tp': 816, 'buy': 150, 'carry': 160, 'bag': 115, 'con': 188, 'connect': 192, 'projector': 637, 'connector': 193, 'there': 792, 'clarity': 175, 'one': 562, 'tv': 824, 'port': 609, 'different': 236, 'customer': 211, 'support': 771, 'manual': 496, 'help': 382, 'section': 698, 'silent': 718, 'marketing': 501, 'strategy': 760, 'indian': 412, 'market': 500, 'plan': 603, 'bad': 112, 'if': 398, 'critical': 207, 'mention': 510, 'handle': 369, 'properly': 638, 'sweep': 772, 'away': 105, 'india': 411, 'presently': 617, 'do': 249, 'seem': 701, 'happeningoverall': 372, 'verdictif': 842, 'bother': 137, 'go': 353, 'else': 271, 'think': 798, 'emotional': 272, 'long': 477, 'cherish': 172, 'thing': 797, 'ahead': 63, 'gradually': 362, 'would': 877, 'figure': 315, 'problem': 625, 'like': 471, 'best': 126, '60k': 43, 'want': 850, 'accounting': 53, 'software': 730, 'tally': 777, 'busy': 146, 'every': 279, 'term': 784, 'love': 482, 'sleek': 722, 'look': 479, 'now': 553, 'talk': 776, 'officeits': 559, 'monthafter': 522, 'payyou': 588, 'install': 418, 'pirate': 602, 'version': 844, 'windows': 866, 'office': 558, 'freebut': 334, 'substitute': 765, 'appsnumber': 91, 'excelpages': 286, 'wordkeynote': 873, 'powerpointand': 614, 'convert': 197, 'number': 555, 'file': 316, 'excel': 283, 'csv': 208, 'filesame': 317, 'page': 581, 'keynoteso': 444, 'mecons1': 506, 'game': 340, 'heat': 379, 'drain': 252, 'pubg': 641, 'mobile': 516, 'emulator': 273, 'lover': 483, 'storage': 757, '128': 8, 'gb': 345, 'fine': 321, 'movie': 529, 'show': 713, 'pros1': 639, 'light': 469, 'weight': 857, 'super': 770, 'fast': 310, 'response': 674, 'time2': 808, 'highly': 387, 'optimize': 569, 'avoid': 104, 'kind': 445, 'process': 627, 'lag3': 449, 'beautiful': 120, 'feel': 314, 'prime': 622, 'product4': 631, 'awesome': 106, 'sound': 737, 'clarity5': 176, 'purchase': 642, 'amazon': 71, '52kcons1': 36, 'enough': 275, 'memory2': 509, 'limited': 472, 'available3': 103, 'operate': 567, 'userfriendlyprobably': 838, 'option': 570, 'upset': 831, 'check': 170, '15': 11, 'day': 217, 'back': 108, 'december': 221, 'start': 751, 'it': 429, 'luckily': 486, 'warranty': 851, 'take': 775, 'service': 708, 'centre': 167, 'inform': 413, 'mother': 526, 'board': 134, 'collapse': 181, '47000': 30, 'ask': 95, 'replacement': 667, 'refuse': 661, 'they': 794, 'fix': 324, 'know': 448, '57000': 39, 'quality': 645, 'in': 406, 'january': 437, 'expiry': 295, 'due': 255, 'give': 352, 'extension': 300, 'month': 521, 'very': 845, 'disappointed': 238, 'reason': 654, 'star': 750, 'ot': 574, 'defective': 224, 'piece': 601, 'the': 789, 'my': 535, 'power': 612, 'button': 149, 'screen': 696, 'flicker': 326, 'shutdown': 716, 'automatically': 101, 'sometime': 735, 'took': 811, 'replace': 666, 'motherboard': 527, 'perfectly': 593, 'apple': 85, 'air': 64, 'discount': 242, 'sale1': 687, 'os': 573, 'smooth': 728, 'breeze': 140, 'ships': 710, 'macos': 492, 'sierra': 717, 'update': 829, 'mojave2': 519, 'design': 229, 'build': 145, 'expect': 291, 'top': 813, 'notch3': 549, 'excellen': 284, 'keyboardcons1': 442, 'may': 504, 'low': 484, 'incase': 408, 'medium': 507, 'laptopyou': 455, 'nullifie': 554, 'advantage': 58, 'laptop2': 451, 'display': 244, 'resolution': 673, 'exactly': 282, 'upto': 832, 'mark': 499, 'white': 861, 'line': 473, 'come': 182, 'three': 803, 'doubt': 251, 'sell': 702, 'recently': 657, 'april': 92, '16': 12, 'working': 876, 'charge': 169, 'turn': 823, 'say': 691, 'try': 822, 'solution': 732, 'ever': 278, 'since': 720, 'solid': 731, 'answer': 79, 'stick': 754, 'dead': 218, '10days': 2, 'request': 669, 'seller': 703, 'full': 339, 'responsibility': 675, 'hi': 385, 'thousand': 802, 'time': 807, 'calm': 153, 'night': 544, 'cuddle': 209, 'jaipuri': 436, 'blanket': 133, 'enjoy': 274, 'youtube': 887, 'cold': 180, 'little': 474, 'excitement': 289, 'create': 205, 'electrostatic': 269, 'spike': 745, 'though': 801, 'spacebar': 740, 'that': 788, 'deep': 222, 'sleep': 723, 'forever': 329, 'nothing': 551, 'bring': 143, 'mood': 524, 'another': 78, 'fortune': 331, 'icare': 396, 'least': 461, 'feature': 312, 'include': 410, 'electronic': 268, 'device': 233, 'and': 74, 'part': 583, 'week': 856, 'expiration': 294, 'date': 215, 'we': 855, 'case': 161, '46000rs': 29, 'repair': 665, '58000rs': 40, 've': 840, '2500rs': 19, 'diagnostic': 234, 'recommend': 659, 'music': 533, 'production': 632, 'awesomehowever': 107, '63k': 45, 'never': 538, 'visit': 848, 'station': 753, 'far': 309, 'km': 447, 'again': 61, 'act': 54, 'mean': 505, 'price': 619, 'monthsi': 523, 'experience': 293, 'brand': 139, 'hope': 389, 'comment': 183, 'save': 690, 'somebody': 734, 'money': 520, 'minebest': 515, 'programmingonly': 635, 'issuesbut': 428, 'ignore': 399, '2017': 15, 'till': 806, 'suddenly': 766, 'stop': 756, 'care': 157, 'shock': 711, 'hear': 378, 'feedback': 313, 'tell': 782, 'new': 539, '53k': 37, 'longlaste': 478, 'really': 653, 'disappoint': 237, 'prefer': 615, 'company': 185, 'next': 542, 'earn': 258, 'extend': 299, '9th': 50, 'july': 439, '4th': 33, 'nov': 552, 'add': 56, 'disappointment': 240, 'apples': 87, 'refusal': 660, 'state': 752, 'corrosion': 199, 'logic': 476, 'also': 68, 'appario': 84, 'sometimes': 736, 'wonder': 871, 'online': 563, 'idea': 397, 'unable': 826, '45000': 27, 'helpless': 383, 'invest': 423, 'carefully': 159, 'send': 704, 'defect': 223, 'all': 65, 'gud': 366, 'for': 327, 'appleappleapple': 86, 'first': 323, 'must': 534, 'flash': 325, 'mind': 514, 'see': 700, 'total': 815, 'breif': 141, 'review': 679, 'laptoppros4k': 454, 'video': 846, 'editing': 263, 'final': 318, 'cut': 212, 'pro': 624, 'butter': 148, 'heating': 380, 'center': 166, 'get': 350, 'checkedeveryday': 171, 'mail': 493, 'gr8the': 361, 'overpowered': 579, '1112': 5, 'hour': 391, 'continuous': 196, '89': 48, 'editingthe': 264, 'graphic': 363, 'card': 156, 'score': 693, '30': 22, 'fps': 332, 'cinebench': 173, 'badthe': 114, 'performance': 595, '280': 21, 'cb': 163, 'processor': 629, 'cinebenchspeaker': 174, 'perfect': 592, 'bassdisplay': 117, 'brightness': 142, '300': 23, 'nit': 546, 'finethe': 322, 'wifi': 864, 'extremely': 303, 'network': 537, 'living': 475, 'room': 681, 'router': 683, 'bedroomvery': 123, 'thin': 796, 'lightweightmacos': 470, 'school': 692, 'application': 88, 'egpage': 266, 'wordmagsafe': 874, 'partgood': 584, 'trackpad': 817, 'keyboard': 441, 'backlightthe': 110, 'thank': 787, 'm2': 487, 'ssdconsdisplay': 747, 'fairly': 304, '133': 10, 'inch': 409, 'view': 847, 'angle': 76, 'appropriate': 90, '84k': 47, 'laptopget': 452, 'going': 355, 'cool': 198, 'cpu': 203, 'thermal': 793, 'paste': 586, 'fanram': 307, 'management': 495, 'mojave': 518, 'gbs': 346, 'memory': 508, 'distribute': 247, 'among': 73, 'task': 778, 'run': 685, 'backgroundmacos': 109, 'make': 494, 'gaming': 343, 'boot': 136, 'camp': 154, 'hardcore': 374, 'gamerintel': 341, 'hd': 377, 'integrate': 420, 'god': 354, 'damn': 214, 'geforce': 347, '940mx': 49, 'priceno': 620, 'force': 328, 'trackpadbezel': 818, 'way': 854, 'thick': 795, 'today': 810, 'standardsno': 749, 'thunderbolt': 805, 'usb': 834, 'ccant': 164, 'detect': 231, 'android': 75, 'explorer': 297, 'installedthe': 419, 'upgrade': 830, '256': 20, 'yearsmy': 884, 'verdictthis': 843, 'people': 591, 'anyone': 81, 'call': 152, 'immediately': 402, 'ok': 560, 'could': 201, 'radeon': 647, 'vega': 841, 'intel': 421, 'iris': 424, 'plus': 606, 'everything': 280, 'great': 365, 'easily': 259, 'lenovo': 463, 'pc': 589, 'criterion': 206, 'explain': 296, 'atleast': 97, 'imac': 401, '4k': 31, 'model': 517, 'fan': 306, 'structure': 763, 'better': 127, 'graphics': 364, 'this': 799, 'edit': 262, '4k60fps': 32, 'slow': 726, 'bit': 132, '5k60fps': 41, 'while': 860, 'export': 298, 'gpu': 360, '104': 1, 'degree': 226, 'you': 886, 'read': 650, 'whole': 862, 'lot': 481, 'write': 879, 'thisupdate': 800, 'oct': 557, '2019apple': 18, 'yes': 885, 'change': 168, 'dust': 256, 'issua': 426, 'solve': 733, '60': 42, '80': 46, 'hence': 384, 'throttling': 804, 'yay': 882, 'after': 60, 'operating': 568, 'past': 585, 'inspire': 416, 'friend': 336, 'real': 651, 'tech': 779, 'impressive': 404, 'be': 119, 'processing': 628, 'speed': 743, 'lifeall': 468, 'satisfy': 689, 'marvel': 502, 'hand': 368, 'stricken': 761, 'pen': 590, 'couplet': 202, 'short': 712, 'story': 759, 'poemi': 607, 'simply': 719, 'lid': 466, 'note': 550, 'close': 177, 'itno': 432, 'shut': 715, 'everytime': 281, 'excellent': 285, 'strong': 762, 'improve': 405, 'visual': 849, 'small': 727, 'dell': 228, 'deal': 219, 'handy': 370, 'portable': 610, 'backup': 111, 'recievedwithin': 658, 'gets': 351, 'requires': 671, 'input': 415, 'restart': 676, 'againcontacte': 62, 'persist': 598, 'early': 257, 'toshiba': 814, 'satellite': 688, '340laste': 24, 'yr': 888, 'without': 870, 'premium': 616, 'dissapointe': 245, 'outside': 577, 'itself': 434, 'apprehensive': 89, 'suggest': 768, 'import': 403, 'item': 430, 'however': 392, 'fresh': 335, 'genuine': 348, 'site': 721, 'serial': 707, 'bill': 130, 'box': 138, 'inner': 414, 'consistent': 195, 'only': 564, 'difference': 235, 'sep': 706, 'from': 338, 'able': 51, 'troubleshooting': 821, 'so': 729, 'kindly': 446, 'please': 605, 'beawre': 121, 'big': 129, 'bug': 144, 'anything': 82, 'book': 135, 'nightmare': 545, 'theoctober': 791, '2018': 16, 'teouble': 783, '2019': 17, 'reoaire': 664, 'woulnt': 878, 'onn': 565, 'put': 643, 'water': 853, 'high': 386, 'tool': 812, 'except': 287, 'watching': 852, 'itune': 435, 'aspect': 96, 'user': 837, 'development': 232, 'current': 210, 'configuration': 191, 'suit': 769, 'heavy': 381, 'useri': 839, 'belong': 125, 'category': 162, 'xcode': 881, 'debug': 220, 'project': 636, 'affordable': 59, 'lasting': 458, 'search': 697, 'lead': 460, 'launch': 459, 'performer': 597, 'recent': 656, 'retire': 678, 'job': 438, 'fake': 305, 'key': 440, 'but': 147, 'happen': 371, 'timeline': 809, 'roughly': 682, 'original': 572, 'when': 859, 'speak': 741, '12000': 7, 'merely': 511, '200': 13, 'rs': 684, 'showroom': 714, 'fault': 311, 'wish': 868, 'productit': 633, 'itgreat': 431, 'easy': 260, 'adapt': 55, 'move': 528, 'windowsthe': 867, 'gesture': 349, 'damm': 213, 'goodhad': 357, 'many': 497, 'badit': 113, 'isif': 425, 'atomic': 98, 'level': 465, 'detailsit': 230, 'fantastic': 308, 'audio': 99, 'outputeverythe': 576, 'scream': 695, 'macbooklove': 490, 'begin': 124, 'horrible': 390, 'hardly': 375, 'terrible': 785, 'rating': 649, 'exchange': 288, 'old': 561, '11': 3, '2013': 14, 'have': 376, 'slightly': 725, 'betterthe': 128, 'delivery': 227, 'packaging': 580, 'multiple': 532, 'scratch': 694, 'conclude': 190, 'whose': 863, 'reseller': 672, 'cloudtail': 178, 'pvt': 644, 'ltdi': 485, 'restore': 677, 'previous': 618, 'observe': 556, 'perform': 594, 'report': 668, 'authority': 100, 'ignoredi': 400, 'shall': 709, 'spec': 742, 'ssd': 746, 'concern': 189, 'sufficient': 767, 'overall': 578, 'find': 320, 'consider': 194, 'additionaly': 57, '13000': 9, 'receive': 655, 'within': 869, 'realise': 652, 'hinge': 388, 'loose': 480, 'then': 790, 'rare': 648, 'policy': 608, 'inspite': 417, 'disappointing': 239, 'careful': 158, 'amazoni': 72, '56k': 38, 'march': 498, 'usage': 833, 'accidental': 52, 'drop': 254, 'guy': 367, '41k': 26, 'leave': 462, 'optionif': 571, 'buying': 151, 'along': 67, 'protection': 640, 'meritsit': 512, 'its': 433, 'performancesound': 596, 'amazingnice': 70, 'picture': 600, 'qualitygreat': 646, 'stabilizationbest': 748, 'uiuser': 825, 'interfacebest': 422, 'normal': 547, 'human': 395, '50kdemeritscannot': 35, 'used': 836, 'gamingbut': 344, 'arenot': 93, 'productive': 634, 'person': 599, 'gamesandtheres': 342, 'elegant': 270, 'friendliness': 337, 'compactness': 184, 'remarkable': 663, '455': 28, 'almost': 66}\n"
          ]
        }
      ],
      "source": [
        "print(vectorizer.vocabulary_)"
      ]
    },
    {
      "cell_type": "code",
      "execution_count": null,
      "metadata": {
        "scrolled": true,
        "id": "ED-MjQcroR0M",
        "colab": {
          "base_uri": "https://localhost:8080/"
        },
        "outputId": "ba4a1c70-8ebc-42e3-89a1-e74285c208df"
      },
      "outputs": [
        {
          "output_type": "stream",
          "name": "stdout",
          "text": [
            "['9th', 'able', 'accidental', 'accounting', 'act', 'adapt', 'add', 'additionaly', 'advantage', 'affordable', 'after', 'again', 'againcontacte', 'ahead', 'air', 'all', 'almost', 'along', 'also', 'amazing', 'amazingnice', 'amazon', 'amazoni', 'among', 'and', 'android', 'angle', 'angry', 'another', 'answer', 'antivirus', 'anyone', 'anything', 'app', 'appario', 'apple', 'appleappleapple', 'apples', 'application', 'apprehensive', 'appropriate', 'appsnumber', 'april', 'arenot', 'around', 'ask', 'aspect', 'atleast', 'atomic', 'audio']\n",
            "[[0 0 0 ... 0 0 0]\n",
            " [0 0 0 ... 0 0 0]\n",
            " [0 0 0 ... 0 0 0]\n",
            " ...\n",
            " [0 0 0 ... 0 0 0]\n",
            " [0 0 0 ... 0 0 0]\n",
            " [0 0 0 ... 0 0 0]]\n"
          ]
        },
        {
          "output_type": "stream",
          "name": "stderr",
          "text": [
            "/usr/local/lib/python3.7/dist-packages/sklearn/utils/deprecation.py:87: FutureWarning: Function get_feature_names is deprecated; get_feature_names is deprecated in 1.0 and will be removed in 1.2. Please use get_feature_names_out instead.\n",
            "  warnings.warn(msg, category=FutureWarning)\n"
          ]
        }
      ],
      "source": [
        "print(vectorizer.get_feature_names()[50:100])\n",
        "print(X.toarray()[50:100])"
      ]
    },
    {
      "cell_type": "code",
      "execution_count": null,
      "metadata": {
        "id": "V-fhek4HoR0N",
        "colab": {
          "base_uri": "https://localhost:8080/"
        },
        "outputId": "27d4d0f9-17ae-4d27-fa95-0747f79b168f"
      },
      "outputs": [
        {
          "output_type": "stream",
          "name": "stdout",
          "text": [
            "(2101, 889)\n"
          ]
        }
      ],
      "source": [
        "print(X.toarray().shape)"
      ]
    },
    {
      "cell_type": "markdown",
      "metadata": {
        "id": "mZdSmjHboR0N"
      },
      "source": [
        "#### Let's see how can bigrams and trigrams can be included here"
      ]
    },
    {
      "cell_type": "code",
      "execution_count": null,
      "metadata": {
        "id": "BO8TXZbIoR0N"
      },
      "outputs": [],
      "source": [
        "vectorizer_ngram_range = CountVectorizer(analyzer='word',ngram_range=(1,3),max_features = 100)\n",
        "bow_matrix_ngram =vectorizer_ngram_range.fit_transform(book)"
      ]
    },
    {
      "cell_type": "code",
      "execution_count": null,
      "metadata": {
        "id": "zTtrGHCsoR0O",
        "colab": {
          "base_uri": "https://localhost:8080/"
        },
        "outputId": "c711f2b5-db72-4d60-f223-3fe1885bd42f"
      },
      "outputs": [
        {
          "output_type": "stream",
          "name": "stdout",
          "text": [
            "['about', 'after', 'air', 'all', 'am', 'amazon', 'an', 'and', 'any', 'apple', 'are', 'around', 'as', 'at', 'battery', 'be', 'best', 'better', 'bought', 'but', 'buy', 'can', 'cost', 'display', 'even', 'external', 'fine', 'for', 'from', 'get', 'good', 'got', 'great', 'hard', 'have', 'if', 'if you', 'if you are', 'in', 'is', 'is not', 'issues', 'it', 'it is', 'its', 'just', 'keyboard', 'laptop', 'like', 'mac', 'macbook', 'macbook air', 'me', 'months', 'my', 'need', 'no', 'not', 'now', 'of', 'of the', 'on', 'on this', 'one', 'only', 'or', 'other', 'product', 'quality', 'sale', 'screen', 'service', 'service center', 'so', 'some', 'still', 'stopped', 'that', 'the', 'then', 'they', 'this', 'to', 'using', 'very', 'want', 'want to', 'warranty', 'was', 'which', 'while', 'will', 'windows', 'with', 'working', 'would', 'year', 'years', 'you', 'you are']\n",
            "[[0 0 0 ... 0 0 0]\n",
            " [0 0 0 ... 1 8 1]\n",
            " [1 0 0 ... 0 7 1]\n",
            " ...\n",
            " [0 0 0 ... 1 0 0]\n",
            " [0 0 0 ... 0 3 0]\n",
            " [0 0 0 ... 0 0 0]]\n"
          ]
        }
      ],
      "source": [
        "print(vectorizer_ngram_range.get_feature_names())\n",
        "print(bow_matrix_ngram.toarray())"
      ]
    },
    {
      "cell_type": "markdown",
      "metadata": {
        "id": "OvPe7SSJoR0Y"
      },
      "source": [
        "#### TFidf vectorizer"
      ]
    },
    {
      "cell_type": "code",
      "execution_count": null,
      "metadata": {
        "id": "O8B5D6f0oR0b",
        "colab": {
          "base_uri": "https://localhost:8080/"
        },
        "outputId": "210a0eb0-71be-4798-d2cb-874ea6b32fd5"
      },
      "outputs": [
        {
          "output_type": "stream",
          "name": "stdout",
          "text": [
            "['10', '12', '2017', '4k', '50k', 'about', 'about the', 'above', 'after', 'after using', 'again', 'air', 'all', 'also', 'am', 'amazing', 'amazon', 'an', 'and', 'and after', 'and is', 'and it', 'and the', 'and then', 'any', 'apple', 'apple product', 'apple service', 'apple support', 'apps', 'apps which', 'apps which are', 'april', 'are', 'are really', 'are way', 'around', 'as', 'as it', 'asked', 'asked for', 'at', 'at all', 'at the', 'at the price', 'automatically', 'available', 'awesome', 'back', 'backup', 'bad', 'battery', 'battery life', 'be', 'be fine', 'be ignored', 'be it', 'be it the', 'be used', 'because', 'been', 'being', 'best', 'best laptop', 'best laptop for', 'better', 'better graphics', 'better than', 'bit', 'board', 'book', 'both', 'bought', 'bought it', 'bought it on', 'bought this', 'bought this macbook', 'box', 'build', 'but', 'but can', 'but can be', 'but if', 'but if you', 'butter', 'button', 'buy', 'buying', 'by', 'can', 'can be', 'can be ignored', 'can get', 'cannot', 'cannot play', 'care', 'carry', 'case', 'center', 'centre', 'charge', 'checked', 'cons', 'cost', 'cpu', 'cut', 'days', 'dead', 'deal', 'design', 'device', 'devices', 'did', 'disappointed', 'discount', 'disk', 'display', 'do', 'don', 'don want', 'during', 'easily', 'editing', 'even', 'even the', 'ever', 'every', 'everything', 'expensive', 'external', 'external hard', 'fault', 'few', 'fine', 'for', 'for it', 'for the', 'free', 'from', 'from amazon', 'from the', 'gb', 'get', 'given', 'giving', 'giving problems', 'go', 'go for', 'go for it', 'go to', 'going', 'going to', 'good', 'good and', 'good and it', 'good as', 'good for', 'good purchase', 'got', 'got it', 'graphics', 'great', 'great deal', 'had', 'hard', 'hard core', 'hard disk', 'has', 'has been', 'have', 'have been', 'have given', 'have to', 'have to buy', 'having', 'hd', 'heat', 'heating', 'help', 'here', 'higher', 'hours', 'how', 'however', 'however the', 'idea', 'if', 'if it', 'if you', 'if you are', 'ignored', 'in', 'in 2017', 'in every', 'in the', 'in this', 'in warranty', 'install', 'into', 'is', 'is not', 'is not that', 'is so', 'is the', 'is too', 'issue', 'issues', 'it', 'it for', 'it is', 'it on', 'it the', 'it to', 'it was', 'it will', 'it would', 'its', 'just', 'keyboard', 'know', 'laptop', 'laptop for', 'laptops', 'last', 'lasting', 'least', 'less', 'less than', 'life', 'light', 'light weight', 'light weight and', 'like', 'like butter', 'line', 'logic', 'logic board', 'long', 'long lasting', 'look', 'love', 'love it', 'mac', 'mac to', 'macbook', 'macbook air', 'macbook from', 'macbook from the', 'macbook pro', 'machine', 'macos', 'made', 'may', 'may be', 'me', 'me that', 'mentioned', 'money', 'month', 'months', 'months of', 'more', 'most', 'motherboard', 'movies', 'ms', 'ms office', 'ms office for', 'much', 'must', 'must say', 'my', 'my mac', 'my old', 'need', 'need of', 'need to', 'never', 'new', 'news', 'night', 'no', 'no clarity', 'no need', 'no need of', 'not', 'not appropriate', 'not appropriate for', 'not be', 'not that', 'nothing', 'now', 'of', 'of its', 'of the', 'office', 'on', 'on this', 'one', 'only', 'operating', 'option', 'or', 'os', 'other', 'over', 'overall', 'pages', 'paste and', 'pay', 'perfect', 'perfectly', 'perfectly fine', 'performance', 'performs', 'piece', 'play', 'possession', 'power', 'premium', 'price', 'pro', 'problem', 'problem and', 'problems', 'product', 'products', 'pros', 'pubg', 'purchase', 'quality', 'quality and', 'quality of', 'rating', 'read', 'really', 'reason', 'repair', 'repair it', 'replaced', 'replaced the', 'replacement', 'required', 'review', 'reviews', 'rs', 'running', 'sale', 'screen', 'seen', 'seen in', 'seller', 'service', 'service center', 'service centre', 'should', 'so', 'sold', 'some', 'sound', 'sound quality', 'star', 'start', 'still', 'stopped', 'stopped working', 'storage', 'store', 'suddenly', 'super', 'support', 'system', 'than', 'that', 'that the', 'the', 'the best', 'the cost', 'the design', 'the device', 'the display', 'the laptop', 'the mac', 'the product', 'the screen', 'the service', 'the service center', 'then', 'there', 'there is', 'theres', 'theres no', 'theres no clarity', 'thermal', 'thermal paste', 'thermal paste and', 'these', 'they', 'they are', 'they told', 'they told me', 'thing', 'thing that', 'think', 'this', 'this is', 'this is the', 'this laptop', 'this mac', 'this macbook', 'this product', 'though', 'though the', 'through', 'till', 'time', 'to', 'to apple', 'to be', 'to be fine', 'to buy', 'to do', 'to get', 'to get it', 'to go', 'to go to', 'to pay', 'to repair', 'to repair it', 'to service', 'to the', 'to this', 'told', 'told me', 'told me that', 'too', 'took', 'took it', 'took it to', 'top', 'trackpad', 'trackpad and', 'trackpad and keyboard', 'trying', 'trying to', 'turn', 'turn on', 'tv', 'unable', 'unable to', 'under', 'under warranty', 'unless', 'unless you', 'up', 'update', 'upgrade', 'upgrade to', 'use', 'used', 'user', 'using', 'using it', 'version', 'very', 'video', 'video editing', 'want', 'want to', 'warranty', 'was', 'was using', 'week', 'weight', 'well', 'went', 'were', 'when', 'which', 'which are', 'which is', 'while', 'who', 'will', 'windows', 'with', 'with the', 'work', 'working', 'works', 'would', 'year', 'years', 'you', 'you are', 'you can', 'you need', 'you need to', 'your', 'your laptop']\n",
            "[[0.3006345  0.32224589 0.         ... 0.         0.         0.        ]\n",
            " [0.04461471 0.         0.         ... 0.04461471 0.08922942 0.        ]\n",
            " [0.         0.         0.         ... 0.         0.11296355 0.06054202]\n",
            " ...\n",
            " [0.         0.         0.         ... 0.         0.         0.        ]\n",
            " [0.         0.         0.         ... 0.         0.         0.        ]\n",
            " [0.         0.         0.         ... 0.         0.         0.        ]]\n"
          ]
        }
      ],
      "source": [
        "from sklearn.feature_extraction.text import TfidfVectorizer\n",
        "vectorizer_n_gram_max_features = TfidfVectorizer(norm=\"l2\",analyzer='word', ngram_range=(1,3), max_features = 500)\n",
        "tf_idf_matrix_n_gram_max_features =vectorizer_n_gram_max_features.fit_transform(book)\n",
        "print(vectorizer_n_gram_max_features.get_feature_names())\n",
        "print(tf_idf_matrix_n_gram_max_features.toarray())"
      ]
    },
    {
      "cell_type": "markdown",
      "metadata": {
        "id": "K-RH8wnAoR0b"
      },
      "source": [
        "####  Generate wordcloud"
      ]
    },
    {
      "cell_type": "code",
      "execution_count": null,
      "metadata": {
        "id": "fAi11-uAoR0d"
      },
      "outputs": [],
      "source": [
        "# Import packages\n",
        "import matplotlib.pyplot as plt\n",
        "%matplotlib inline\n",
        "from wordcloud import WordCloud, STOPWORDS\n",
        "# Define a function to plot word cloud\n",
        "def plot_cloud(wordcloud):\n",
        "    # Set figure size\n",
        "    plt.figure(figsize=(40, 30))\n",
        "    # Display image\n",
        "    plt.imshow(wordcloud) \n",
        "    # No axis details\n",
        "    plt.axis(\"off\");"
      ]
    },
    {
      "cell_type": "code",
      "execution_count": null,
      "metadata": {
        "id": "SXbBfRw7oR0e"
      },
      "outputs": [],
      "source": [
        "# Generate wordcloud\n",
        "stopwords = STOPWORDS\n",
        "stopwords.add('will')\n",
        "wordcloud = WordCloud(width = 3000, height = 2000, background_color='black', max_words=100,colormap='Set2',stopwords=stopwords).generate(text)\n",
        "# Plot\n",
        "plot_cloud(wordcloud)"
      ]
    },
    {
      "cell_type": "code",
      "execution_count": null,
      "metadata": {
        "id": "1kHwl5sloR0g",
        "colab": {
          "base_uri": "https://localhost:8080/"
        },
        "outputId": "a5f54bcd-db68-4baa-d56d-00f9bf2ecf57"
      },
      "outputs": [
        {
          "output_type": "execute_result",
          "data": {
            "text/plain": [
              "<wordcloud.wordcloud.WordCloud at 0x7fe7d6b78190>"
            ]
          },
          "metadata": {},
          "execution_count": 30
        }
      ],
      "source": [
        "# Save image\n",
        "wordcloud.to_file(\"wordcloud.png\")"
      ]
    }
  ],
  "metadata": {
    "kernelspec": {
      "display_name": "Python 3",
      "language": "python",
      "name": "python3"
    },
    "language_info": {
      "codemirror_mode": {
        "name": "ipython",
        "version": 3
      },
      "file_extension": ".py",
      "mimetype": "text/x-python",
      "name": "python",
      "nbconvert_exporter": "python",
      "pygments_lexer": "ipython3",
      "version": "3.7.4"
    },
    "colab": {
      "provenance": [],
      "include_colab_link": true
    }
  },
  "nbformat": 4,
  "nbformat_minor": 0
}